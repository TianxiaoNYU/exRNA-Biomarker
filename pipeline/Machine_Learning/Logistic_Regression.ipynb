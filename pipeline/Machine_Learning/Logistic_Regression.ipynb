{
 "cells": [
  {
   "cell_type": "code",
   "execution_count": 1,
   "metadata": {},
   "outputs": [
    {
     "name": "stderr",
     "output_type": "stream",
     "text": [
      "\n",
      "Attaching package: ‘dplyr’\n",
      "\n",
      "The following objects are masked from ‘package:stats’:\n",
      "\n",
      "    filter, lag\n",
      "\n",
      "The following objects are masked from ‘package:base’:\n",
      "\n",
      "    intersect, setdiff, setequal, union\n",
      "\n",
      "Loading required package: lattice\n",
      "Loading required package: gplots\n",
      "\n",
      "Attaching package: ‘gplots’\n",
      "\n",
      "The following object is masked from ‘package:stats’:\n",
      "\n",
      "    lowess\n",
      "\n"
     ]
    }
   ],
   "source": [
    "set.seed(1919)\n",
    "library(dplyr)\n",
    "library(ggplot2)\n",
    "library(caret)\n",
    "library(mlbench)\n",
    "library(ROCR)\n",
    "library(nnet)"
   ]
  },
  {
   "cell_type": "code",
   "execution_count": 5,
   "metadata": {},
   "outputs": [],
   "source": [
    "dat <- read.table(\"RFE_data.txt\", header = T, sep = \"\\t\")\n",
    "dat <- as.data.frame(scale(dat))\n",
    "sample_dat <- read.table(\"scirep_classes.txt\", header = T, sep = \",\", stringsAsFactors = F)\n",
    "sample_class <- as.factor(arrange(sample_dat, sample_id)$label)\n",
    "merge_dat <- cbind(dat, sample_class)"
   ]
  },
  {
   "cell_type": "code",
   "execution_count": 8,
   "metadata": {},
   "outputs": [],
   "source": [
    "## Divide Train & Test in Logistic Regression\n",
    "n_samples <- nrow(merge_dat)\n",
    "n_train <- floor(n_samples * 0.8)\n",
    "indices <- sample(1:n_samples)\n",
    "indices <- indices[1:n_train]\n",
    "train_merge_sample <- merge_dat[indices,]\n",
    "#train_sample_class <- sample_class[indices]\n",
    "test_merge_sample <- merge_dat[-indices,]\n",
    "#test_sample_class <- sample_class[-indices]"
   ]
  },
  {
   "cell_type": "code",
   "execution_count": 9,
   "metadata": {
    "collapsed": true
   },
   "outputs": [
    {
     "name": "stdout",
     "output_type": "stream",
     "text": [
      "# weights:  48 (33 variable)\n",
      "initial  value 210.716743 \n",
      "iter  10 value 93.687958\n",
      "iter  20 value 88.718272\n",
      "iter  30 value 86.627835\n",
      "iter  40 value 86.359972\n",
      "final  value 86.359789 \n",
      "converged\n",
      "Start:  AIC=238.72\n",
      "sample_class ~ ENST00000623130.1 + ENST00000383869.1 + piR.hsa.23317 + \n",
      "    ENST00000516053.2 + ENST00000626826.1 + ENST00000362154.1 + \n",
      "    ENST00000536684.2 + ENST00000384886.3 + ENST00000384278.1 + \n",
      "    ENST00000385273.1\n",
      "\n",
      "trying - ENST00000623130.1 \n",
      "# weights:  44 (30 variable)\n",
      "initial  value 210.716743 \n",
      "iter  10 value 95.320540\n",
      "iter  20 value 90.894628\n",
      "iter  30 value 90.535868\n",
      "iter  40 value 90.526259\n",
      "iter  40 value 90.526259\n",
      "iter  40 value 90.526259\n",
      "final  value 90.526259 \n",
      "converged\n",
      "trying - ENST00000383869.1 \n",
      "# weights:  44 (30 variable)\n",
      "initial  value 210.716743 \n",
      "iter  10 value 96.254099\n",
      "iter  20 value 91.036792\n",
      "iter  30 value 89.297112\n",
      "iter  40 value 88.982923\n",
      "final  value 88.982712 \n",
      "converged\n",
      "trying - piR.hsa.23317 \n",
      "# weights:  44 (30 variable)\n",
      "initial  value 210.716743 \n",
      "iter  10 value 105.840701\n",
      "iter  20 value 97.256447\n",
      "iter  30 value 94.940272\n",
      "iter  40 value 94.819601\n",
      "iter  50 value 94.818428\n",
      "iter  50 value 94.818428\n",
      "iter  50 value 94.818428\n",
      "final  value 94.818428 \n",
      "converged\n",
      "trying - ENST00000516053.2 \n",
      "# weights:  44 (30 variable)\n",
      "initial  value 210.716743 \n",
      "iter  10 value 97.242033\n",
      "iter  20 value 90.415197\n",
      "iter  30 value 88.299786\n",
      "iter  40 value 88.020081\n",
      "iter  50 value 88.019803\n",
      "final  value 88.019798 \n",
      "converged\n",
      "trying - ENST00000626826.1 \n",
      "# weights:  44 (30 variable)\n",
      "initial  value 210.716743 \n",
      "iter  10 value 97.875633\n",
      "iter  20 value 89.415967\n",
      "iter  30 value 88.822882\n",
      "final  value 88.814137 \n",
      "converged\n",
      "trying - ENST00000362154.1 \n",
      "# weights:  44 (30 variable)\n",
      "initial  value 210.716743 \n",
      "iter  10 value 94.999717\n",
      "iter  20 value 89.365493\n",
      "iter  30 value 87.202440\n",
      "iter  40 value 87.046792\n",
      "iter  50 value 87.045887\n",
      "final  value 87.045880 \n",
      "converged\n",
      "trying - ENST00000536684.2 \n",
      "# weights:  44 (30 variable)\n",
      "initial  value 210.716743 \n",
      "iter  10 value 104.802679\n",
      "iter  20 value 101.614960\n",
      "iter  30 value 100.195377\n",
      "iter  40 value 100.115383\n",
      "final  value 100.115312 \n",
      "converged\n",
      "trying - ENST00000384886.3 \n",
      "# weights:  44 (30 variable)\n",
      "initial  value 210.716743 \n",
      "iter  10 value 98.973814\n",
      "iter  20 value 93.247882\n",
      "iter  30 value 91.103905\n",
      "iter  40 value 90.904483\n",
      "final  value 90.899999 \n",
      "converged\n",
      "trying - ENST00000384278.1 \n",
      "# weights:  44 (30 variable)\n",
      "initial  value 210.716743 \n",
      "iter  10 value 95.795575\n",
      "iter  20 value 91.028486\n",
      "iter  30 value 89.320667\n",
      "iter  40 value 89.147967\n",
      "final  value 89.147866 \n",
      "converged\n",
      "trying - ENST00000385273.1 \n",
      "# weights:  44 (30 variable)\n",
      "initial  value 210.716743 \n",
      "iter  10 value 101.381616\n",
      "iter  20 value 97.183700\n",
      "iter  30 value 94.534382\n",
      "iter  40 value 94.379332\n",
      "final  value 94.378703 \n",
      "converged\n",
      "                    Df      AIC\n",
      "- ENST00000362154.1 30 234.0918\n",
      "- ENST00000516053.2 30 236.0396\n",
      "- ENST00000626826.1 30 237.6283\n",
      "- ENST00000383869.1 30 237.9654\n",
      "- ENST00000384278.1 30 238.2957\n",
      "<none>              33 238.7196\n",
      "- ENST00000623130.1 30 241.0525\n",
      "- ENST00000384886.3 30 241.8000\n",
      "- ENST00000385273.1 30 248.7574\n",
      "- piR.hsa.23317     30 249.6369\n",
      "- ENST00000536684.2 30 260.2306\n",
      "# weights:  44 (30 variable)\n",
      "initial  value 210.716743 \n",
      "iter  10 value 94.999717\n",
      "iter  20 value 89.365493\n",
      "iter  30 value 87.202440\n",
      "iter  40 value 87.046792\n",
      "iter  50 value 87.045887\n",
      "final  value 87.045880 \n",
      "converged\n",
      "\n",
      "Step:  AIC=234.09\n",
      "sample_class ~ ENST00000623130.1 + ENST00000383869.1 + piR.hsa.23317 + \n",
      "    ENST00000516053.2 + ENST00000626826.1 + ENST00000536684.2 + \n",
      "    ENST00000384886.3 + ENST00000384278.1 + ENST00000385273.1\n",
      "\n",
      "trying - ENST00000623130.1 \n",
      "# weights:  40 (27 variable)\n",
      "initial  value 210.716743 \n",
      "iter  10 value 95.918508\n",
      "iter  20 value 91.587993\n",
      "iter  30 value 91.409177\n",
      "final  value 91.406567 \n",
      "converged\n",
      "trying - ENST00000383869.1 \n",
      "# weights:  40 (27 variable)\n",
      "initial  value 210.716743 \n",
      "iter  10 value 98.952940\n",
      "iter  20 value 92.316449\n",
      "iter  30 value 89.993020\n",
      "iter  40 value 89.911910\n",
      "final  value 89.911520 \n",
      "converged\n",
      "trying - piR.hsa.23317 \n",
      "# weights:  40 (27 variable)\n",
      "initial  value 210.716743 \n",
      "iter  10 value 102.674444\n",
      "iter  20 value 97.583130\n",
      "iter  30 value 95.783317\n",
      "iter  40 value 95.736378\n",
      "final  value 95.735064 \n",
      "converged\n",
      "trying - ENST00000516053.2 \n",
      "# weights:  40 (27 variable)\n",
      "initial  value 210.716743 \n",
      "iter  10 value 97.075156\n",
      "iter  20 value 91.464808\n",
      "iter  30 value 89.071561\n",
      "iter  40 value 88.956711\n",
      "iter  50 value 88.955277\n",
      "iter  50 value 88.955277\n",
      "iter  50 value 88.955277\n",
      "final  value 88.955277 \n",
      "converged\n",
      "trying - ENST00000626826.1 \n",
      "# weights:  40 (27 variable)\n",
      "initial  value 210.716743 \n",
      "iter  10 value 94.651169\n",
      "iter  20 value 90.031777\n",
      "iter  30 value 89.605841\n",
      "final  value 89.605023 \n",
      "converged\n",
      "trying - ENST00000536684.2 \n",
      "# weights:  40 (27 variable)\n",
      "initial  value 210.716743 \n",
      "iter  10 value 105.217060\n",
      "iter  20 value 101.858715\n",
      "iter  30 value 100.708190\n",
      "iter  40 value 100.654760\n",
      "final  value 100.654733 \n",
      "converged\n",
      "trying - ENST00000384886.3 \n",
      "# weights:  40 (27 variable)\n",
      "initial  value 210.716743 \n",
      "iter  10 value 102.637053\n",
      "iter  20 value 96.503764\n",
      "iter  30 value 94.308848\n",
      "iter  40 value 94.216429\n",
      "final  value 94.214993 \n",
      "converged\n",
      "trying - ENST00000384278.1 \n",
      "# weights:  40 (27 variable)\n",
      "initial  value 210.716743 \n",
      "iter  10 value 98.468423\n",
      "iter  20 value 92.068741\n",
      "iter  30 value 89.984074\n",
      "iter  40 value 89.944204\n",
      "final  value 89.943507 \n",
      "converged\n",
      "trying - ENST00000385273.1 \n",
      "# weights:  40 (27 variable)\n",
      "initial  value 210.716743 \n",
      "iter  10 value 100.944217\n",
      "iter  20 value 97.062258\n",
      "iter  30 value 94.656580\n",
      "iter  40 value 94.554527\n",
      "final  value 94.554239 \n",
      "converged\n",
      "                    Df      AIC\n",
      "- ENST00000516053.2 27 231.9106\n",
      "- ENST00000626826.1 27 233.2100\n",
      "- ENST00000383869.1 27 233.8230\n",
      "- ENST00000384278.1 27 233.8870\n",
      "<none>              30 234.0918\n",
      "- ENST00000623130.1 27 236.8131\n",
      "- ENST00000384886.3 27 242.4300\n",
      "- ENST00000385273.1 27 243.1085\n",
      "- piR.hsa.23317     27 245.4701\n",
      "- ENST00000536684.2 27 255.3095\n",
      "# weights:  40 (27 variable)\n",
      "initial  value 210.716743 \n",
      "iter  10 value 97.075156\n",
      "iter  20 value 91.464808\n",
      "iter  30 value 89.071561\n",
      "iter  40 value 88.956711\n",
      "iter  50 value 88.955277\n",
      "iter  50 value 88.955277\n",
      "iter  50 value 88.955277\n",
      "final  value 88.955277 \n",
      "converged\n",
      "\n",
      "Step:  AIC=231.91\n",
      "sample_class ~ ENST00000623130.1 + ENST00000383869.1 + piR.hsa.23317 + \n",
      "    ENST00000626826.1 + ENST00000536684.2 + ENST00000384886.3 + \n",
      "    ENST00000384278.1 + ENST00000385273.1\n",
      "\n",
      "trying - ENST00000623130.1 \n",
      "# weights:  36 (24 variable)\n",
      "initial  value 210.716743 \n",
      "iter  10 value 97.511816\n",
      "iter  20 value 93.338495\n",
      "iter  30 value 93.164337\n",
      "final  value 93.164304 \n",
      "converged\n",
      "trying - ENST00000383869.1 \n",
      "# weights:  36 (24 variable)\n",
      "initial  value 210.716743 \n",
      "iter  10 value 99.664211\n",
      "iter  20 value 93.860161\n",
      "iter  30 value 92.223158\n",
      "iter  40 value 92.219295\n",
      "final  value 92.219277 \n",
      "converged\n",
      "trying - piR.hsa.23317 \n",
      "# weights:  36 (24 variable)\n",
      "initial  value 210.716743 \n",
      "iter  10 value 103.768078\n",
      "iter  20 value 99.599040\n",
      "iter  30 value 98.045938\n",
      "iter  40 value 98.031547\n",
      "final  value 98.031318 \n",
      "converged\n",
      "trying - ENST00000626826.1 \n",
      "# weights:  36 (24 variable)\n",
      "initial  value 210.716743 \n",
      "iter  10 value 95.738901\n",
      "iter  20 value 91.555311\n",
      "iter  30 value 91.391439\n",
      "final  value 91.391421 \n",
      "converged\n",
      "trying - ENST00000536684.2 \n",
      "# weights:  36 (24 variable)\n",
      "initial  value 210.716743 \n",
      "iter  10 value 108.283054\n",
      "iter  20 value 105.183983\n",
      "iter  30 value 103.803655\n",
      "iter  40 value 103.757470\n",
      "final  value 103.757462 \n",
      "converged\n",
      "trying - ENST00000384886.3 \n",
      "# weights:  36 (24 variable)\n",
      "initial  value 210.716743 \n",
      "iter  10 value 103.449838\n",
      "iter  20 value 97.974271\n",
      "iter  30 value 96.260137\n",
      "iter  40 value 96.214391\n",
      "final  value 96.214214 \n",
      "converged\n",
      "trying - ENST00000384278.1 \n",
      "# weights:  36 (24 variable)\n",
      "initial  value 210.716743 \n",
      "iter  10 value 99.071901\n",
      "iter  20 value 93.667039\n",
      "iter  30 value 91.987647\n",
      "iter  40 value 91.976028\n",
      "final  value 91.975933 \n",
      "converged\n",
      "trying - ENST00000385273.1 \n",
      "# weights:  36 (24 variable)\n",
      "initial  value 210.716743 \n",
      "iter  10 value 121.665331\n",
      "iter  20 value 116.258993\n",
      "iter  30 value 114.770528\n",
      "final  value 114.658871 \n",
      "converged\n",
      "                    Df      AIC\n",
      "- ENST00000626826.1 24 230.7828\n",
      "<none>              27 231.9106\n",
      "- ENST00000384278.1 24 231.9519\n",
      "- ENST00000383869.1 24 232.4386\n",
      "- ENST00000623130.1 24 234.3286\n",
      "- ENST00000384886.3 24 240.4284\n",
      "- piR.hsa.23317     24 244.0626\n",
      "- ENST00000536684.2 24 255.5149\n",
      "- ENST00000385273.1 24 277.3177\n",
      "# weights:  36 (24 variable)\n"
     ]
    },
    {
     "name": "stdout",
     "output_type": "stream",
     "text": [
      "initial  value 210.716743 \n",
      "iter  10 value 95.738901\n",
      "iter  20 value 91.555311\n",
      "iter  30 value 91.391439\n",
      "final  value 91.391421 \n",
      "converged\n",
      "\n",
      "Step:  AIC=230.78\n",
      "sample_class ~ ENST00000623130.1 + ENST00000383869.1 + piR.hsa.23317 + \n",
      "    ENST00000536684.2 + ENST00000384886.3 + ENST00000384278.1 + \n",
      "    ENST00000385273.1\n",
      "\n",
      "trying - ENST00000623130.1 \n",
      "# weights:  32 (21 variable)\n",
      "initial  value 210.716743 \n",
      "iter  10 value 103.141425\n",
      "iter  20 value 101.416763\n",
      "final  value 101.409058 \n",
      "converged\n",
      "trying - ENST00000383869.1 \n",
      "# weights:  32 (21 variable)\n",
      "initial  value 210.716743 \n",
      "iter  10 value 98.372905\n",
      "iter  20 value 94.463965\n",
      "final  value 94.402078 \n",
      "converged\n",
      "trying - piR.hsa.23317 \n",
      "# weights:  32 (21 variable)\n",
      "initial  value 210.716743 \n",
      "iter  10 value 104.499890\n",
      "iter  20 value 100.211754\n",
      "iter  30 value 100.167983\n",
      "iter  30 value 100.167983\n",
      "iter  30 value 100.167983\n",
      "final  value 100.167983 \n",
      "converged\n",
      "trying - ENST00000536684.2 \n",
      "# weights:  32 (21 variable)\n",
      "initial  value 210.716743 \n",
      "iter  10 value 107.571672\n",
      "iter  20 value 105.915347\n",
      "iter  30 value 105.904449\n",
      "iter  30 value 105.904449\n",
      "iter  30 value 105.904449\n",
      "final  value 105.904449 \n",
      "converged\n",
      "trying - ENST00000384886.3 \n",
      "# weights:  32 (21 variable)\n",
      "initial  value 210.716743 \n",
      "iter  10 value 103.156035\n",
      "iter  20 value 99.207041\n",
      "iter  30 value 99.172546\n",
      "final  value 99.172542 \n",
      "converged\n",
      "trying - ENST00000384278.1 \n",
      "# weights:  32 (21 variable)\n",
      "initial  value 210.716743 \n",
      "iter  10 value 97.702282\n",
      "iter  20 value 94.204601\n",
      "iter  30 value 94.139703\n",
      "iter  30 value 94.139703\n",
      "iter  30 value 94.139703\n",
      "final  value 94.139703 \n",
      "converged\n",
      "trying - ENST00000385273.1 \n",
      "# weights:  32 (21 variable)\n",
      "initial  value 210.716743 \n",
      "iter  10 value 120.356549\n",
      "iter  20 value 118.685503\n",
      "final  value 118.661280 \n",
      "converged\n",
      "                    Df      AIC\n",
      "- ENST00000384278.1 21 230.2794\n",
      "<none>              24 230.7828\n",
      "- ENST00000383869.1 21 230.8042\n",
      "- ENST00000384886.3 21 240.3451\n",
      "- piR.hsa.23317     21 242.3360\n",
      "- ENST00000623130.1 21 244.8181\n",
      "- ENST00000536684.2 21 253.8089\n",
      "- ENST00000385273.1 21 279.3226\n",
      "# weights:  32 (21 variable)\n",
      "initial  value 210.716743 \n",
      "iter  10 value 97.702282\n",
      "iter  20 value 94.204601\n",
      "iter  30 value 94.139703\n",
      "iter  30 value 94.139703\n",
      "iter  30 value 94.139703\n",
      "final  value 94.139703 \n",
      "converged\n",
      "\n",
      "Step:  AIC=230.28\n",
      "sample_class ~ ENST00000623130.1 + ENST00000383869.1 + piR.hsa.23317 + \n",
      "    ENST00000536684.2 + ENST00000384886.3 + ENST00000385273.1\n",
      "\n",
      "trying - ENST00000623130.1 \n",
      "# weights:  28 (18 variable)\n",
      "initial  value 210.716743 \n",
      "iter  10 value 106.765029\n",
      "iter  20 value 105.355540\n",
      "final  value 105.352524 \n",
      "converged\n",
      "trying - ENST00000383869.1 \n",
      "# weights:  28 (18 variable)\n",
      "initial  value 210.716743 \n",
      "iter  10 value 105.459453\n",
      "iter  20 value 101.989332\n",
      "final  value 101.965202 \n",
      "converged\n",
      "trying - piR.hsa.23317 \n",
      "# weights:  28 (18 variable)\n",
      "initial  value 210.716743 \n",
      "iter  10 value 108.137232\n",
      "iter  20 value 104.115107\n",
      "final  value 104.111739 \n",
      "converged\n",
      "trying - ENST00000536684.2 \n",
      "# weights:  28 (18 variable)\n",
      "initial  value 210.716743 \n",
      "iter  10 value 110.001316\n",
      "iter  20 value 108.363691\n",
      "final  value 108.357147 \n",
      "converged\n",
      "trying - ENST00000384886.3 \n",
      "# weights:  28 (18 variable)\n",
      "initial  value 210.716743 \n",
      "iter  10 value 105.623582\n",
      "iter  20 value 102.891568\n",
      "final  value 102.879086 \n",
      "converged\n",
      "trying - ENST00000385273.1 \n",
      "# weights:  28 (18 variable)\n",
      "initial  value 210.716743 \n",
      "iter  10 value 122.994969\n",
      "iter  20 value 121.632314\n",
      "final  value 121.630737 \n",
      "converged\n",
      "                    Df      AIC\n",
      "<none>              21 230.2794\n",
      "- ENST00000383869.1 18 239.9304\n",
      "- ENST00000384886.3 18 241.7582\n",
      "- piR.hsa.23317     18 244.2235\n",
      "- ENST00000623130.1 18 246.7050\n",
      "- ENST00000536684.2 18 252.7143\n",
      "- ENST00000385273.1 18 279.2615\n"
     ]
    }
   ],
   "source": [
    "mult_train <- multinom(sample_class ~ ENST00000623130.1 + ENST00000383869.1 + piR.hsa.23317 + ENST00000516053.2 +\n",
    "            ENST00000626826.1 + ENST00000362154.1 + ENST00000536684.2 + ENST00000384886.3 + ENST00000384278.1+\n",
    "            ENST00000385273.1, data=train_merge_sample)\n",
    "step_train <- step(mult_train) "
   ]
  },
  {
   "cell_type": "code",
   "execution_count": 11,
   "metadata": {
    "collapsed": true
   },
   "outputs": [
    {
     "data": {
      "text/plain": [
       "                   train_pred\n",
       "                    Colorectal Cancer Healthy Control Pancreatic Cancer\n",
       "  Colorectal Cancer                60               9                 0\n",
       "  Healthy Control                  18              24                 0\n",
       "  Pancreatic Cancer                 4               0                 0\n",
       "  Prostate Cancer                   4               0                 0\n",
       "                   train_pred\n",
       "                    Prostate Cancer\n",
       "  Colorectal Cancer               5\n",
       "  Healthy Control                 0\n",
       "  Pancreatic Cancer               1\n",
       "  Prostate Cancer                27"
      ]
     },
     "metadata": {},
     "output_type": "display_data"
    },
    {
     "data": {
      "text/plain": [
       "                   test_pred\n",
       "                    Colorectal Cancer Healthy Control Pancreatic Cancer\n",
       "  Colorectal Cancer                18               6                 0\n",
       "  Healthy Control                   3               4                 0\n",
       "  Pancreatic Cancer                 1               0                 0\n",
       "  Prostate Cancer                   0               0                 0\n",
       "                   test_pred\n",
       "                    Prostate Cancer\n",
       "  Colorectal Cancer               1\n",
       "  Healthy Control                 1\n",
       "  Pancreatic Cancer               0\n",
       "  Prostate Cancer                 5"
      ]
     },
     "metadata": {},
     "output_type": "display_data"
    }
   ],
   "source": [
    "# Test on train_data\n",
    "train_pred <- predict(step_train)\n",
    "train_prob_pred <- predict(step_train, type = \"prob\")\n",
    "table(train_merge_sample$sample_class, train_pred)\n",
    "\n",
    "# Test on test_data\n",
    "test_pred <- predict(mult_train, newdata = test_merge_sample)\n",
    "test_prob_pred <- predict(mult_train, newdata = test_merge_sample, type = \"prob\")\n",
    "table(test_merge_sample$sample_class, test_pred)"
   ]
  },
  {
   "cell_type": "code",
   "execution_count": 43,
   "metadata": {},
   "outputs": [
    {
     "data": {
      "text/html": [
       "<strong>png:</strong> 2"
      ],
      "text/latex": [
       "\\textbf{png:} 2"
      ],
      "text/markdown": [
       "**png:** 2"
      ],
      "text/plain": [
       "png \n",
       "  2 "
      ]
     },
     "metadata": {},
     "output_type": "display_data"
    },
    {
     "name": "stdout",
     "output_type": "stream",
     "text": [
      "auc = 0.8028571 \n"
     ]
    }
   ],
   "source": [
    "## Colorectal Cancer的测试集ROC\n",
    "positive_class <- 'Colorectal Cancer'\n",
    "test_labels <- vector('integer', nrow(test_prob_pred))\n",
    "test_labels[test_merge_sample$sample_class != positive_class] <- 0\n",
    "test_labels[test_merge_sample$sample_class == positive_class] <- 1\n",
    "pred <- prediction(test_prob_pred[, positive_class], test_labels)\n",
    "roc <- performance(pred, 'tpr', 'fpr') \n",
    "png(\"Col_Can_ROC_LL_test.png\")\n",
    "plot(roc, main = 'ROC Curve for Colorectal Cancer', sub = 'AUC = 0.803')\n",
    "dev.off()\n",
    "auc <- performance(pred, 'auc')\n",
    "cat('auc =', auc@y.values[[1]], '\\n')"
   ]
  },
  {
   "cell_type": "code",
   "execution_count": 44,
   "metadata": {},
   "outputs": [
    {
     "data": {
      "text/html": [
       "<strong>png:</strong> 2"
      ],
      "text/latex": [
       "\\textbf{png:} 2"
      ],
      "text/markdown": [
       "**png:** 2"
      ],
      "text/plain": [
       "png \n",
       "  2 "
      ]
     },
     "metadata": {},
     "output_type": "display_data"
    },
    {
     "name": "stdout",
     "output_type": "stream",
     "text": [
      "auc = 0.7258065 \n"
     ]
    }
   ],
   "source": [
    "## Healthy Control的测试集ROC\n",
    "positive_class <- 'Healthy Control'\n",
    "test_labels <- vector('integer', nrow(test_prob_pred))\n",
    "test_labels[test_merge_sample$sample_class != positive_class] <- 0\n",
    "test_labels[test_merge_sample$sample_class == positive_class] <- 1\n",
    "pred <- prediction(test_prob_pred[, positive_class], test_labels)\n",
    "roc <- performance(pred, 'tpr', 'fpr') \n",
    "png(\"Healthy_Control_ROC_LL_test.png\")\n",
    "plot(roc, main = 'ROC Curve for Healthy Control', sub = 'AUC = 0.726')\n",
    "dev.off()\n",
    "auc <- performance(pred, 'auc')\n",
    "cat('auc =', auc@y.values[[1]], '\\n')"
   ]
  },
  {
   "cell_type": "code",
   "execution_count": 45,
   "metadata": {},
   "outputs": [
    {
     "data": {
      "text/html": [
       "<strong>png:</strong> 2"
      ],
      "text/latex": [
       "\\textbf{png:} 2"
      ],
      "text/markdown": [
       "**png:** 2"
      ],
      "text/plain": [
       "png \n",
       "  2 "
      ]
     },
     "metadata": {},
     "output_type": "display_data"
    },
    {
     "name": "stdout",
     "output_type": "stream",
     "text": [
      "auc = 0.9764706 \n"
     ]
    }
   ],
   "source": [
    "## Prostate Cancer的测试集ROC\n",
    "positive_class <- 'Prostate Cancer'\n",
    "test_labels <- vector('integer', nrow(test_prob_pred))\n",
    "test_labels[test_merge_sample$sample_class != positive_class] <- 0\n",
    "test_labels[test_merge_sample$sample_class == positive_class] <- 1\n",
    "pred <- prediction(test_prob_pred[, positive_class], test_labels)\n",
    "roc <- performance(pred, 'tpr', 'fpr') \n",
    "png(\"Pro_Can_ROC_LL_test.png\")\n",
    "plot(roc, main = 'ROC Curve for Prostate Cancer', sub = 'AUC = 0.976')\n",
    "dev.off()\n",
    "auc <- performance(pred, 'auc')\n",
    "cat('auc =', auc@y.values[[1]], '\\n')"
   ]
  },
  {
   "cell_type": "code",
   "execution_count": 46,
   "metadata": {},
   "outputs": [
    {
     "name": "stdout",
     "output_type": "stream",
     "text": [
      "auc = 0.1052632 \n"
     ]
    }
   ],
   "source": [
    "## Pancreatic Cancer样本量过小，故在测试集中不再另行绘制其ROC曲线\n",
    "positive_class <- 'Pancreatic Cancer'\n",
    "test_labels <- vector('integer', nrow(test_prob_pred))\n",
    "test_labels[test_merge_sample$sample_class != positive_class] <- 0\n",
    "test_labels[test_merge_sample$sample_class == positive_class] <- 1\n",
    "pred <- prediction(test_prob_pred[, positive_class], test_labels)\n",
    "roc <- performance(pred, 'tpr', 'fpr') \n",
    "#png(\"Pan_Can_ROC_LL_test.png\")\n",
    "#plot(roc, main = 'ROC Curve for Pancreatic Cancer', sub = 'AUC = 0.976')\n",
    "#dev.off()\n",
    "auc <- performance(pred, 'auc')\n",
    "cat('auc =', auc@y.values[[1]], '\\n')"
   ]
  },
  {
   "cell_type": "code",
   "execution_count": 47,
   "metadata": {},
   "outputs": [
    {
     "data": {
      "text/html": [
       "<strong>png:</strong> 2"
      ],
      "text/latex": [
       "\\textbf{png:} 2"
      ],
      "text/markdown": [
       "**png:** 2"
      ],
      "text/plain": [
       "png \n",
       "  2 "
      ]
     },
     "metadata": {},
     "output_type": "display_data"
    },
    {
     "name": "stdout",
     "output_type": "stream",
     "text": [
      "auc = 0.8746753 \n"
     ]
    }
   ],
   "source": [
    "## Healthy Control的训练集ROC\n",
    "positive_class <- 'Healthy Control'\n",
    "test_labels <- vector('integer', nrow(train_prob_pred))\n",
    "test_labels[train_merge_sample$sample_class != positive_class] <- 0\n",
    "test_labels[train_merge_sample$sample_class == positive_class] <- 1\n",
    "pred <- prediction(train_prob_pred[, positive_class], test_labels)\n",
    "roc <- performance(pred, 'tpr', 'fpr') \n",
    "png(\"Healthy_Control_ROC_LL_train.png\")\n",
    "plot(roc, main = 'ROC Curve for Healthy Control in Train Set', sub = 'AUC = 0.875')\n",
    "dev.off()\n",
    "auc <- performance(pred, 'auc')\n",
    "cat('auc =', auc@y.values[[1]], '\\n')"
   ]
  },
  {
   "cell_type": "code",
   "execution_count": 48,
   "metadata": {},
   "outputs": [
    {
     "data": {
      "text/html": [
       "<strong>png:</strong> 2"
      ],
      "text/latex": [
       "\\textbf{png:} 2"
      ],
      "text/markdown": [
       "**png:** 2"
      ],
      "text/plain": [
       "png \n",
       "  2 "
      ]
     },
     "metadata": {},
     "output_type": "display_data"
    },
    {
     "name": "stdout",
     "output_type": "stream",
     "text": [
      "auc = 0.8459806 \n"
     ]
    }
   ],
   "source": [
    "## Colorectal Cancer的训练集ROC\n",
    "positive_class <- 'Colorectal Cancer'\n",
    "test_labels <- vector('integer', nrow(train_prob_pred))\n",
    "test_labels[train_merge_sample$sample_class != positive_class] <- 0\n",
    "test_labels[train_merge_sample$sample_class == positive_class] <- 1\n",
    "pred <- prediction(train_prob_pred[, positive_class], test_labels)\n",
    "roc <- performance(pred, 'tpr', 'fpr') \n",
    "png(\"Col_Can_ROC_LL_train.png\")\n",
    "plot(roc, main = 'ROC Curve for Colorectal Cancer in Train Set', sub = 'AUC = 0.846')\n",
    "dev.off()\n",
    "auc <- performance(pred, 'auc')\n",
    "cat('auc =', auc@y.values[[1]], '\\n')"
   ]
  },
  {
   "cell_type": "code",
   "execution_count": 49,
   "metadata": {},
   "outputs": [
    {
     "data": {
      "text/html": [
       "<strong>png:</strong> 2"
      ],
      "text/latex": [
       "\\textbf{png:} 2"
      ],
      "text/markdown": [
       "**png:** 2"
      ],
      "text/plain": [
       "png \n",
       "  2 "
      ]
     },
     "metadata": {},
     "output_type": "display_data"
    },
    {
     "name": "stdout",
     "output_type": "stream",
     "text": [
      "auc = 0.9813383 \n"
     ]
    }
   ],
   "source": [
    "## Prostate Cancer的训练集ROC\n",
    "positive_class <- 'Prostate Cancer'\n",
    "test_labels <- vector('integer', nrow(train_prob_pred))\n",
    "test_labels[train_merge_sample$sample_class != positive_class] <- 0\n",
    "test_labels[train_merge_sample$sample_class == positive_class] <- 1\n",
    "pred <- prediction(train_prob_pred[, positive_class], test_labels)\n",
    "roc <- performance(pred, 'tpr', 'fpr') \n",
    "png(\"Pro_Can_ROC_LL_train.png\")\n",
    "plot(roc, main = 'ROC Curve for Prostate Cancer in Train Set', sub = 'AUC = 0.981')\n",
    "dev.off()\n",
    "auc <- performance(pred, 'auc')\n",
    "cat('auc =', auc@y.values[[1]], '\\n')"
   ]
  },
  {
   "cell_type": "code",
   "execution_count": 50,
   "metadata": {},
   "outputs": [
    {
     "data": {
      "text/html": [
       "<strong>png:</strong> 2"
      ],
      "text/latex": [
       "\\textbf{png:} 2"
      ],
      "text/markdown": [
       "**png:** 2"
      ],
      "text/plain": [
       "png \n",
       "  2 "
      ]
     },
     "metadata": {},
     "output_type": "display_data"
    },
    {
     "name": "stdout",
     "output_type": "stream",
     "text": [
      "auc = 0.8176871 \n"
     ]
    }
   ],
   "source": [
    "## Pancreatic Cancer的训练集ROC\n",
    "positive_class <- 'Pancreatic Cancer'\n",
    "test_labels <- vector('integer', nrow(train_prob_pred))\n",
    "test_labels[train_merge_sample$sample_class != positive_class] <- 0\n",
    "test_labels[train_merge_sample$sample_class == positive_class] <- 1\n",
    "pred <- prediction(train_prob_pred[, positive_class], test_labels)\n",
    "roc <- performance(pred, 'tpr', 'fpr') \n",
    "png(\"Pan_Can_ROC_LL_train.png\")\n",
    "plot(roc, main = 'ROC Curve for Pancreatic Cancer in Train Set', sub = 'AUC = 0.818')\n",
    "dev.off()\n",
    "auc <- performance(pred, 'auc')\n",
    "cat('auc =', auc@y.values[[1]], '\\n')"
   ]
  },
  {
   "cell_type": "code",
   "execution_count": null,
   "metadata": {},
   "outputs": [],
   "source": []
  },
  {
   "cell_type": "code",
   "execution_count": null,
   "metadata": {},
   "outputs": [],
   "source": []
  }
 ],
 "metadata": {
  "kernelspec": {
   "display_name": "R",
   "language": "R",
   "name": "ir"
  },
  "language_info": {
   "codemirror_mode": "r",
   "file_extension": ".r",
   "mimetype": "text/x-r-source",
   "name": "R",
   "pygments_lexer": "r",
   "version": "3.4.3"
  }
 },
 "nbformat": 4,
 "nbformat_minor": 2
}
