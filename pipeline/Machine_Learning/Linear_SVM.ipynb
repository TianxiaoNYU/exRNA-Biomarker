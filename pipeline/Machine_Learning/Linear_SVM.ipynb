{
 "cells": [
  {
   "cell_type": "code",
   "execution_count": 2,
   "metadata": {},
   "outputs": [
    {
     "name": "stderr",
     "output_type": "stream",
     "text": [
      "\n",
      "Attaching package: ‘dplyr’\n",
      "\n",
      "The following objects are masked from ‘package:stats’:\n",
      "\n",
      "    filter, lag\n",
      "\n",
      "The following objects are masked from ‘package:base’:\n",
      "\n",
      "    intersect, setdiff, setequal, union\n",
      "\n",
      "Loading required package: gplots\n",
      "\n",
      "Attaching package: ‘gplots’\n",
      "\n",
      "The following object is masked from ‘package:stats’:\n",
      "\n",
      "    lowess\n",
      "\n"
     ]
    }
   ],
   "source": [
    "set.seed(1919)\n",
    "library(e1071)\n",
    "library(dplyr)\n",
    "library(ROCR)"
   ]
  },
  {
   "cell_type": "code",
   "execution_count": 13,
   "metadata": {},
   "outputs": [],
   "source": [
    "dat <- read.table(\"RFE_data.txt\", header = T, sep = \"\\t\")\n",
    "dat <- as.data.frame(scale(dat))\n",
    "sample_dat <- read.table(\"scirep_classes.txt\", header = T, sep = \",\", stringsAsFactors = F)\n",
    "sample_class <- as.factor(arrange(sample_dat, sample_id)$label)"
   ]
  },
  {
   "cell_type": "code",
   "execution_count": 14,
   "metadata": {},
   "outputs": [],
   "source": [
    "merge_dat <- cbind(dat, sample_class)"
   ]
  },
  {
   "cell_type": "code",
   "execution_count": 15,
   "metadata": {},
   "outputs": [
    {
     "data": {
      "text/html": [
       "<ol class=list-inline>\n",
       "\t<li>'ENST00000623130.1'</li>\n",
       "\t<li>'ENST00000383869.1'</li>\n",
       "\t<li>'piR.hsa.23317'</li>\n",
       "\t<li>'ENST00000516053.2'</li>\n",
       "\t<li>'ENST00000626826.1'</li>\n",
       "\t<li>'ENST00000362154.1'</li>\n",
       "\t<li>'ENST00000536684.2'</li>\n",
       "\t<li>'ENST00000384886.3'</li>\n",
       "\t<li>'ENST00000384278.1'</li>\n",
       "\t<li>'ENST00000385273.1'</li>\n",
       "\t<li>'sample_class'</li>\n",
       "</ol>\n"
      ],
      "text/latex": [
       "\\begin{enumerate*}\n",
       "\\item 'ENST00000623130.1'\n",
       "\\item 'ENST00000383869.1'\n",
       "\\item 'piR.hsa.23317'\n",
       "\\item 'ENST00000516053.2'\n",
       "\\item 'ENST00000626826.1'\n",
       "\\item 'ENST00000362154.1'\n",
       "\\item 'ENST00000536684.2'\n",
       "\\item 'ENST00000384886.3'\n",
       "\\item 'ENST00000384278.1'\n",
       "\\item 'ENST00000385273.1'\n",
       "\\item 'sample\\_class'\n",
       "\\end{enumerate*}\n"
      ],
      "text/markdown": [
       "1. 'ENST00000623130.1'\n",
       "2. 'ENST00000383869.1'\n",
       "3. 'piR.hsa.23317'\n",
       "4. 'ENST00000516053.2'\n",
       "5. 'ENST00000626826.1'\n",
       "6. 'ENST00000362154.1'\n",
       "7. 'ENST00000536684.2'\n",
       "8. 'ENST00000384886.3'\n",
       "9. 'ENST00000384278.1'\n",
       "10. 'ENST00000385273.1'\n",
       "11. 'sample_class'\n",
       "\n",
       "\n"
      ],
      "text/plain": [
       " [1] \"ENST00000623130.1\" \"ENST00000383869.1\" \"piR.hsa.23317\"    \n",
       " [4] \"ENST00000516053.2\" \"ENST00000626826.1\" \"ENST00000362154.1\"\n",
       " [7] \"ENST00000536684.2\" \"ENST00000384886.3\" \"ENST00000384278.1\"\n",
       "[10] \"ENST00000385273.1\" \"sample_class\"     "
      ]
     },
     "metadata": {},
     "output_type": "display_data"
    }
   ],
   "source": [
    "colnames(merge_dat)"
   ]
  },
  {
   "cell_type": "code",
   "execution_count": 16,
   "metadata": {},
   "outputs": [],
   "source": [
    "n_samples <- nrow(merge_dat)\n",
    "n_train <- floor(n_samples * 0.8)\n",
    "indices <- sample(1:n_samples)\n",
    "indices <- indices[1:n_train]\n",
    "SVM_train_sample <- merge_dat[indices,]\n",
    "SVM_test_sample <- merge_dat[-indices,]"
   ]
  },
  {
   "cell_type": "code",
   "execution_count": 18,
   "metadata": {},
   "outputs": [],
   "source": [
    "svm.prob.fit<-svm(sample_class ~ ENST00000623130.1 + ENST00000383869.1 + piR.hsa.23317 + ENST00000516053.2 +\n",
    "            ENST00000626826.1 + ENST00000362154.1 + ENST00000536684.2 + ENST00000384886.3 + ENST00000384278.1+\n",
    "            ENST00000385273.1, data = SVM_train_sample, probability = TRUE)\n",
    "predicted_probs <- predict(svm.prob.fit, SVM_test_sample, probability = TRUE)\n",
    "stat_res <- table(predicted_probs, SVM_test_sample$sample_class)\n",
    "pre_prob <- attr(predicted_probs, \"probabilities\")\n",
    "train_predicted_probs <- predict(svm.prob.fit, SVM_train_sample, probability = TRUE)\n",
    "train_stat_res <- table(train_predicted_probs, SVM_train_sample$sample_class)\n",
    "train_pre_prob <- attr(train_predicted_probs, \"probabilities\")"
   ]
  },
  {
   "cell_type": "code",
   "execution_count": 19,
   "metadata": {},
   "outputs": [
    {
     "data": {
      "text/plain": [
       "                   \n",
       "predicted_probs     Colorectal Cancer Healthy Control Pancreatic Cancer\n",
       "  Colorectal Cancer                17               6                 2\n",
       "  Healthy Control                   1               4                 0\n",
       "  Pancreatic Cancer                 0               0                 0\n",
       "  Prostate Cancer                   1               1                 0\n",
       "                   \n",
       "predicted_probs     Prostate Cancer\n",
       "  Colorectal Cancer               2\n",
       "  Healthy Control                 0\n",
       "  Pancreatic Cancer               0\n",
       "  Prostate Cancer                 5"
      ]
     },
     "metadata": {},
     "output_type": "display_data"
    },
    {
     "data": {
      "text/html": [
       "<dl class=dl-horizontal>\n",
       "\t<dt>Sample_1S12</dt>\n",
       "\t\t<dd>Colorectal Cancer</dd>\n",
       "\t<dt>Sample_1S20</dt>\n",
       "\t\t<dd>Colorectal Cancer</dd>\n",
       "\t<dt>Sample_1S24</dt>\n",
       "\t\t<dd>Colorectal Cancer</dd>\n",
       "\t<dt>Sample_1S6</dt>\n",
       "\t\t<dd>Colorectal Cancer</dd>\n",
       "\t<dt>Sample_2S10</dt>\n",
       "\t\t<dd>Colorectal Cancer</dd>\n",
       "\t<dt>Sample_2S17</dt>\n",
       "\t\t<dd>Colorectal Cancer</dd>\n",
       "\t<dt>Sample_2S19</dt>\n",
       "\t\t<dd>Colorectal Cancer</dd>\n",
       "\t<dt>Sample_2S2</dt>\n",
       "\t\t<dd>Colorectal Cancer</dd>\n",
       "\t<dt>Sample_2S20</dt>\n",
       "\t\t<dd>Colorectal Cancer</dd>\n",
       "\t<dt>Sample_3S1</dt>\n",
       "\t\t<dd>Colorectal Cancer</dd>\n",
       "\t<dt>Sample_3S13</dt>\n",
       "\t\t<dd>Colorectal Cancer</dd>\n",
       "\t<dt>Sample_3S15</dt>\n",
       "\t\t<dd>Colorectal Cancer</dd>\n",
       "\t<dt>Sample_3S16</dt>\n",
       "\t\t<dd>Colorectal Cancer</dd>\n",
       "\t<dt>Sample_3S8</dt>\n",
       "\t\t<dd>Colorectal Cancer</dd>\n",
       "\t<dt>Sample_4S11</dt>\n",
       "\t\t<dd>Healthy Control</dd>\n",
       "\t<dt>Sample_4S17</dt>\n",
       "\t\t<dd>Colorectal Cancer</dd>\n",
       "\t<dt>Sample_4S19</dt>\n",
       "\t\t<dd>Colorectal Cancer</dd>\n",
       "\t<dt>Sample_4S21</dt>\n",
       "\t\t<dd>Prostate Cancer</dd>\n",
       "\t<dt>Sample_4S3</dt>\n",
       "\t\t<dd>Colorectal Cancer</dd>\n",
       "\t<dt>Sample_N21</dt>\n",
       "\t\t<dd>Healthy Control</dd>\n",
       "\t<dt>Sample_N23</dt>\n",
       "\t\t<dd>Colorectal Cancer</dd>\n",
       "\t<dt>Sample_N27</dt>\n",
       "\t\t<dd>Colorectal Cancer</dd>\n",
       "\t<dt>Sample_N31</dt>\n",
       "\t\t<dd>Healthy Control</dd>\n",
       "\t<dt>Sample_N35</dt>\n",
       "\t\t<dd>Colorectal Cancer</dd>\n",
       "\t<dt>Sample_N40</dt>\n",
       "\t\t<dd>Colorectal Cancer</dd>\n",
       "\t<dt>Sample_N41</dt>\n",
       "\t\t<dd>Healthy Control</dd>\n",
       "\t<dt>Sample_N44</dt>\n",
       "\t\t<dd>Colorectal Cancer</dd>\n",
       "\t<dt>Sample_N48</dt>\n",
       "\t\t<dd>Prostate Cancer</dd>\n",
       "\t<dt>Sample_N5</dt>\n",
       "\t\t<dd>Healthy Control</dd>\n",
       "\t<dt>Sample_N50</dt>\n",
       "\t\t<dd>Colorectal Cancer</dd>\n",
       "\t<dt>Sample_Pan01</dt>\n",
       "\t\t<dd>Colorectal Cancer</dd>\n",
       "\t<dt>Sample_Pan05</dt>\n",
       "\t\t<dd>Colorectal Cancer</dd>\n",
       "\t<dt>Sample_PC10</dt>\n",
       "\t\t<dd>Colorectal Cancer</dd>\n",
       "\t<dt>Sample_PC11</dt>\n",
       "\t\t<dd>Prostate Cancer</dd>\n",
       "\t<dt>Sample_PC14</dt>\n",
       "\t\t<dd>Prostate Cancer</dd>\n",
       "\t<dt>Sample_PC16</dt>\n",
       "\t\t<dd>Prostate Cancer</dd>\n",
       "\t<dt>Sample_PC22</dt>\n",
       "\t\t<dd>Prostate Cancer</dd>\n",
       "\t<dt>Sample_PC24</dt>\n",
       "\t\t<dd>Colorectal Cancer</dd>\n",
       "\t<dt>Sample_PC25</dt>\n",
       "\t\t<dd>Prostate Cancer</dd>\n",
       "</dl>\n",
       "\n",
       "<details>\n",
       "\t<summary style=display:list-item;cursor:pointer>\n",
       "\t\t<strong>Levels</strong>:\n",
       "\t</summary>\n",
       "\t<ol class=list-inline>\n",
       "\t\t<li>'Colorectal Cancer'</li>\n",
       "\t\t<li>'Healthy Control'</li>\n",
       "\t\t<li>'Pancreatic Cancer'</li>\n",
       "\t\t<li>'Prostate Cancer'</li>\n",
       "\t</ol>\n",
       "</details>"
      ],
      "text/latex": [
       "\\begin{description*}\n",
       "\\item[Sample\\textbackslash{}\\_1S12] Colorectal Cancer\n",
       "\\item[Sample\\textbackslash{}\\_1S20] Colorectal Cancer\n",
       "\\item[Sample\\textbackslash{}\\_1S24] Colorectal Cancer\n",
       "\\item[Sample\\textbackslash{}\\_1S6] Colorectal Cancer\n",
       "\\item[Sample\\textbackslash{}\\_2S10] Colorectal Cancer\n",
       "\\item[Sample\\textbackslash{}\\_2S17] Colorectal Cancer\n",
       "\\item[Sample\\textbackslash{}\\_2S19] Colorectal Cancer\n",
       "\\item[Sample\\textbackslash{}\\_2S2] Colorectal Cancer\n",
       "\\item[Sample\\textbackslash{}\\_2S20] Colorectal Cancer\n",
       "\\item[Sample\\textbackslash{}\\_3S1] Colorectal Cancer\n",
       "\\item[Sample\\textbackslash{}\\_3S13] Colorectal Cancer\n",
       "\\item[Sample\\textbackslash{}\\_3S15] Colorectal Cancer\n",
       "\\item[Sample\\textbackslash{}\\_3S16] Colorectal Cancer\n",
       "\\item[Sample\\textbackslash{}\\_3S8] Colorectal Cancer\n",
       "\\item[Sample\\textbackslash{}\\_4S11] Healthy Control\n",
       "\\item[Sample\\textbackslash{}\\_4S17] Colorectal Cancer\n",
       "\\item[Sample\\textbackslash{}\\_4S19] Colorectal Cancer\n",
       "\\item[Sample\\textbackslash{}\\_4S21] Prostate Cancer\n",
       "\\item[Sample\\textbackslash{}\\_4S3] Colorectal Cancer\n",
       "\\item[Sample\\textbackslash{}\\_N21] Healthy Control\n",
       "\\item[Sample\\textbackslash{}\\_N23] Colorectal Cancer\n",
       "\\item[Sample\\textbackslash{}\\_N27] Colorectal Cancer\n",
       "\\item[Sample\\textbackslash{}\\_N31] Healthy Control\n",
       "\\item[Sample\\textbackslash{}\\_N35] Colorectal Cancer\n",
       "\\item[Sample\\textbackslash{}\\_N40] Colorectal Cancer\n",
       "\\item[Sample\\textbackslash{}\\_N41] Healthy Control\n",
       "\\item[Sample\\textbackslash{}\\_N44] Colorectal Cancer\n",
       "\\item[Sample\\textbackslash{}\\_N48] Prostate Cancer\n",
       "\\item[Sample\\textbackslash{}\\_N5] Healthy Control\n",
       "\\item[Sample\\textbackslash{}\\_N50] Colorectal Cancer\n",
       "\\item[Sample\\textbackslash{}\\_Pan01] Colorectal Cancer\n",
       "\\item[Sample\\textbackslash{}\\_Pan05] Colorectal Cancer\n",
       "\\item[Sample\\textbackslash{}\\_PC10] Colorectal Cancer\n",
       "\\item[Sample\\textbackslash{}\\_PC11] Prostate Cancer\n",
       "\\item[Sample\\textbackslash{}\\_PC14] Prostate Cancer\n",
       "\\item[Sample\\textbackslash{}\\_PC16] Prostate Cancer\n",
       "\\item[Sample\\textbackslash{}\\_PC22] Prostate Cancer\n",
       "\\item[Sample\\textbackslash{}\\_PC24] Colorectal Cancer\n",
       "\\item[Sample\\textbackslash{}\\_PC25] Prostate Cancer\n",
       "\\end{description*}\n",
       "\n",
       "\\emph{Levels}: \\begin{enumerate*}\n",
       "\\item 'Colorectal Cancer'\n",
       "\\item 'Healthy Control'\n",
       "\\item 'Pancreatic Cancer'\n",
       "\\item 'Prostate Cancer'\n",
       "\\end{enumerate*}\n"
      ],
      "text/markdown": [
       "Sample_1S12\n",
       ":   Colorectal CancerSample_1S20\n",
       ":   Colorectal CancerSample_1S24\n",
       ":   Colorectal CancerSample_1S6\n",
       ":   Colorectal CancerSample_2S10\n",
       ":   Colorectal CancerSample_2S17\n",
       ":   Colorectal CancerSample_2S19\n",
       ":   Colorectal CancerSample_2S2\n",
       ":   Colorectal CancerSample_2S20\n",
       ":   Colorectal CancerSample_3S1\n",
       ":   Colorectal CancerSample_3S13\n",
       ":   Colorectal CancerSample_3S15\n",
       ":   Colorectal CancerSample_3S16\n",
       ":   Colorectal CancerSample_3S8\n",
       ":   Colorectal CancerSample_4S11\n",
       ":   Healthy ControlSample_4S17\n",
       ":   Colorectal CancerSample_4S19\n",
       ":   Colorectal CancerSample_4S21\n",
       ":   Prostate CancerSample_4S3\n",
       ":   Colorectal CancerSample_N21\n",
       ":   Healthy ControlSample_N23\n",
       ":   Colorectal CancerSample_N27\n",
       ":   Colorectal CancerSample_N31\n",
       ":   Healthy ControlSample_N35\n",
       ":   Colorectal CancerSample_N40\n",
       ":   Colorectal CancerSample_N41\n",
       ":   Healthy ControlSample_N44\n",
       ":   Colorectal CancerSample_N48\n",
       ":   Prostate CancerSample_N5\n",
       ":   Healthy ControlSample_N50\n",
       ":   Colorectal CancerSample_Pan01\n",
       ":   Colorectal CancerSample_Pan05\n",
       ":   Colorectal CancerSample_PC10\n",
       ":   Colorectal CancerSample_PC11\n",
       ":   Prostate CancerSample_PC14\n",
       ":   Prostate CancerSample_PC16\n",
       ":   Prostate CancerSample_PC22\n",
       ":   Prostate CancerSample_PC24\n",
       ":   Colorectal CancerSample_PC25\n",
       ":   Prostate Cancer\n",
       "\n",
       "\n",
       "**Levels**: 1. 'Colorectal Cancer'\n",
       "2. 'Healthy Control'\n",
       "3. 'Pancreatic Cancer'\n",
       "4. 'Prostate Cancer'\n",
       "\n",
       "\n"
      ],
      "text/plain": [
       "      Sample_1S12       Sample_1S20       Sample_1S24        Sample_1S6 \n",
       "Colorectal Cancer Colorectal Cancer Colorectal Cancer Colorectal Cancer \n",
       "      Sample_2S10       Sample_2S17       Sample_2S19        Sample_2S2 \n",
       "Colorectal Cancer Colorectal Cancer Colorectal Cancer Colorectal Cancer \n",
       "      Sample_2S20        Sample_3S1       Sample_3S13       Sample_3S15 \n",
       "Colorectal Cancer Colorectal Cancer Colorectal Cancer Colorectal Cancer \n",
       "      Sample_3S16        Sample_3S8       Sample_4S11       Sample_4S17 \n",
       "Colorectal Cancer Colorectal Cancer   Healthy Control Colorectal Cancer \n",
       "      Sample_4S19       Sample_4S21        Sample_4S3        Sample_N21 \n",
       "Colorectal Cancer   Prostate Cancer Colorectal Cancer   Healthy Control \n",
       "       Sample_N23        Sample_N27        Sample_N31        Sample_N35 \n",
       "Colorectal Cancer Colorectal Cancer   Healthy Control Colorectal Cancer \n",
       "       Sample_N40        Sample_N41        Sample_N44        Sample_N48 \n",
       "Colorectal Cancer   Healthy Control Colorectal Cancer   Prostate Cancer \n",
       "        Sample_N5        Sample_N50      Sample_Pan01      Sample_Pan05 \n",
       "  Healthy Control Colorectal Cancer Colorectal Cancer Colorectal Cancer \n",
       "      Sample_PC10       Sample_PC11       Sample_PC14       Sample_PC16 \n",
       "Colorectal Cancer   Prostate Cancer   Prostate Cancer   Prostate Cancer \n",
       "      Sample_PC22       Sample_PC24       Sample_PC25 \n",
       "  Prostate Cancer Colorectal Cancer   Prostate Cancer \n",
       "attr(,\"probabilities\")\n",
       "             Healthy Control Prostate Cancer Pancreatic Cancer\n",
       "Sample_1S12       0.04042750     0.197340127        0.01976606\n",
       "Sample_1S20       0.20619779     0.122776330        0.02421113\n",
       "Sample_1S24       0.09787330     0.327886198        0.02546836\n",
       "Sample_1S6        0.07294586     0.015022206        0.02421748\n",
       "Sample_2S10       0.01975134     0.131933597        0.02161735\n",
       "Sample_2S17       0.18034018     0.133903196        0.02380958\n",
       "Sample_2S19       0.15166015     0.108967656        0.02298979\n",
       "Sample_2S2        0.13675309     0.007597786        0.02692471\n",
       "Sample_2S20       0.08863944     0.108866999        0.02286897\n",
       "Sample_3S1        0.09783089     0.017993383        0.02458421\n",
       "Sample_3S13       0.16512687     0.135529569        0.02873889\n",
       "Sample_3S15       0.04127165     0.184841084        0.01941609\n",
       "Sample_3S16       0.11604006     0.242959372        0.02961406\n",
       "Sample_3S8        0.15083312     0.114941398        0.02328805\n",
       "Sample_4S11       0.36251376     0.331437652        0.03399038\n",
       "Sample_4S17       0.13638675     0.079589427        0.02890569\n",
       "Sample_4S19       0.23681953     0.065404871        0.03062625\n",
       "Sample_4S21       0.13870033     0.594936319        0.04378241\n",
       "Sample_4S3        0.05886684     0.016856513        0.02086653\n",
       "Sample_N21        0.48212489     0.272035620        0.04102802\n",
       "Sample_N23        0.19118226     0.007514630        0.02812133\n",
       "Sample_N27        0.29119263     0.040642270        0.02867658\n",
       "Sample_N31        0.49693897     0.007534598        0.03769096\n",
       "Sample_N35        0.22326537     0.071427484        0.02844731\n",
       "Sample_N40        0.16436979     0.045915616        0.02819390\n",
       "Sample_N41        0.60522964     0.006714183        0.04171579\n",
       "Sample_N44        0.05448540     0.017228765        0.02121739\n",
       "Sample_N48        0.11800796     0.738428193        0.02593958\n",
       "Sample_N5         0.72331208     0.012816500        0.04189157\n",
       "Sample_N50        0.09397778     0.009212615        0.02560421\n",
       "Sample_Pan01      0.30302542     0.217948470        0.03798427\n",
       "Sample_Pan05      0.04694446     0.018745419        0.02166336\n",
       "Sample_PC10       0.26153381     0.283301128        0.02982895\n",
       "Sample_PC11       0.24815732     0.590280311        0.03426150\n",
       "Sample_PC14       0.03712091     0.895222347        0.02312736\n",
       "Sample_PC16       0.10312647     0.791726181        0.02778788\n",
       "Sample_PC22       0.05200546     0.798075287        0.02977097\n",
       "Sample_PC24       0.05153666     0.293767071        0.02332820\n",
       "Sample_PC25       0.04624894     0.575883912        0.03687947\n",
       "             Colorectal Cancer\n",
       "Sample_1S12         0.74246631\n",
       "Sample_1S20         0.64681475\n",
       "Sample_1S24         0.54877214\n",
       "Sample_1S6          0.88781445\n",
       "Sample_2S10         0.82669771\n",
       "Sample_2S17         0.66194704\n",
       "Sample_2S19         0.71638240\n",
       "Sample_2S2          0.82872441\n",
       "Sample_2S20         0.77962458\n",
       "Sample_3S1          0.85959152\n",
       "Sample_3S13         0.67060467\n",
       "Sample_3S15         0.75447117\n",
       "Sample_3S16         0.61138651\n",
       "Sample_3S8          0.71093743\n",
       "Sample_4S11         0.27205822\n",
       "Sample_4S17         0.75511813\n",
       "Sample_4S19         0.66714935\n",
       "Sample_4S21         0.22258095\n",
       "Sample_4S3          0.90341012\n",
       "Sample_N21          0.20481146\n",
       "Sample_N23          0.77318178\n",
       "Sample_N27          0.63948851\n",
       "Sample_N31          0.45783548\n",
       "Sample_N35          0.67685984\n",
       "Sample_N40          0.76152069\n",
       "Sample_N41          0.34634039\n",
       "Sample_N44          0.90706844\n",
       "Sample_N48          0.11762426\n",
       "Sample_N5           0.22197985\n",
       "Sample_N50          0.87120539\n",
       "Sample_Pan01        0.44104184\n",
       "Sample_Pan05        0.91264676\n",
       "Sample_PC10         0.42533611\n",
       "Sample_PC11         0.12730087\n",
       "Sample_PC14         0.04452937\n",
       "Sample_PC16         0.07735946\n",
       "Sample_PC22         0.12014828\n",
       "Sample_PC24         0.63136807\n",
       "Sample_PC25         0.34098768\n",
       "4 Levels: Colorectal Cancer Healthy Control ... Prostate Cancer"
      ]
     },
     "metadata": {},
     "output_type": "display_data"
    }
   ],
   "source": [
    "stat_res\n",
    "predicted_probs"
   ]
  },
  {
   "cell_type": "code",
   "execution_count": 20,
   "metadata": {},
   "outputs": [
    {
     "data": {
      "text/html": [
       "0.666666666666667"
      ],
      "text/latex": [
       "0.666666666666667"
      ],
      "text/markdown": [
       "0.666666666666667"
      ],
      "text/plain": [
       "[1] 0.6666667"
      ]
     },
     "metadata": {},
     "output_type": "display_data"
    }
   ],
   "source": [
    "accurary <- (stat_res[1, 1] + stat_res[2, 2] + stat_res[3, 3] + stat_res[4, 4])/length(predicted_probs)\n",
    "accurary"
   ]
  },
  {
   "cell_type": "code",
   "execution_count": 37,
   "metadata": {},
   "outputs": [
    {
     "data": {
      "text/html": [
       "<strong>png:</strong> 2"
      ],
      "text/latex": [
       "\\textbf{png:} 2"
      ],
      "text/markdown": [
       "**png:** 2"
      ],
      "text/plain": [
       "png \n",
       "  2 "
      ]
     },
     "metadata": {},
     "output_type": "display_data"
    },
    {
     "name": "stdout",
     "output_type": "stream",
     "text": [
      "auc = 0.7184211 \n"
     ]
    }
   ],
   "source": [
    "## Colorectal Cancer的测试集ROC\n",
    "positive_class <- 'Colorectal Cancer'\n",
    "test_labels <- vector('integer', length(predicted_probs))\n",
    "test_labels[SVM_test_sample$sample_class != positive_class] <- 0\n",
    "test_labels[SVM_test_sample$sample_class == positive_class] <- 1\n",
    "pred <- prediction(pre_prob[, positive_class], test_labels)\n",
    "roc <- performance(pred, 'tpr', 'fpr') \n",
    "png(\"Col_Can_ROC_SVM_test.png\")\n",
    "plot(roc, main = 'ROC Curve for Colorectal Cancer', sub = 'AUC = 0.718')\n",
    "dev.off()\n",
    "auc <- performance(pred, 'auc')\n",
    "cat('auc =', auc@y.values[[1]], '\\n')"
   ]
  },
  {
   "cell_type": "code",
   "execution_count": 38,
   "metadata": {},
   "outputs": [
    {
     "data": {
      "text/html": [
       "<strong>png:</strong> 2"
      ],
      "text/latex": [
       "\\textbf{png:} 2"
      ],
      "text/markdown": [
       "**png:** 2"
      ],
      "text/plain": [
       "png \n",
       "  2 "
      ]
     },
     "metadata": {},
     "output_type": "display_data"
    },
    {
     "name": "stdout",
     "output_type": "stream",
     "text": [
      "auc = 0.7694805 \n"
     ]
    }
   ],
   "source": [
    "## Healthy Control的测试集ROC\n",
    "positive_class <- 'Healthy Control'\n",
    "test_labels[SVM_test_sample$sample_class != positive_class] <- 0\n",
    "test_labels[SVM_test_sample$sample_class == positive_class] <- 1\n",
    "pred <- prediction(pre_prob[, positive_class], test_labels)\n",
    "roc <- performance(pred, 'tpr', 'fpr') \n",
    "png(\"Healthy_Control_ROC_SVM_test.png\")\n",
    "plot(roc, main = 'ROC Curve for Healthy Control', sub = 'AUC = 0.770')\n",
    "dev.off()\n",
    "auc <- performance(pred, 'auc')\n",
    "cat('auc =', auc@y.values[[1]], '\\n')"
   ]
  },
  {
   "cell_type": "code",
   "execution_count": 39,
   "metadata": {},
   "outputs": [
    {
     "data": {
      "text/html": [
       "<strong>png:</strong> 2"
      ],
      "text/latex": [
       "\\textbf{png:} 2"
      ],
      "text/markdown": [
       "**png:** 2"
      ],
      "text/plain": [
       "png \n",
       "  2 "
      ]
     },
     "metadata": {},
     "output_type": "display_data"
    },
    {
     "name": "stdout",
     "output_type": "stream",
     "text": [
      "auc = 0.9464286 \n"
     ]
    }
   ],
   "source": [
    "## Prostate Cancer的测试集ROC\n",
    "positive_class <- 'Prostate Cancer'\n",
    "test_labels[SVM_test_sample$sample_class != positive_class] <- 0\n",
    "test_labels[SVM_test_sample$sample_class == positive_class] <- 1\n",
    "pred <- prediction(pre_prob[, positive_class], test_labels)\n",
    "roc <- performance(pred, 'tpr', 'fpr') \n",
    "png(\"Pro_Can_ROC_SVM_test.png\")\n",
    "plot(roc, main = 'ROC Curve for Prostate Cancer', sub = 'AUC = 0.946')\n",
    "dev.off()\n",
    "auc <- performance(pred, 'auc')\n",
    "cat('auc =', auc@y.values[[1]], '\\n')"
   ]
  },
  {
   "cell_type": "code",
   "execution_count": 40,
   "metadata": {},
   "outputs": [],
   "source": [
    "## Pancreatic Cancer样本量过小，故在测试集中不再另行绘制其ROC曲线\n",
    "positive_class <- 'Pancreatic Cancer'\n",
    "test_labels[SVM_test_sample$sample_class != positive_class] <- 0\n",
    "test_labels[SVM_test_sample$sample_class == positive_class] <- 1\n",
    "#pred <- prediction(pre_prob[, positive_class], test_labels)\n",
    "#roc <- performance(pred, 'tpr', 'fpr') \n",
    "#pdf(\"Pan_Can_ROC_SVM_test.pdf\")\n",
    "#plot(roc, main = 'ROC Curve for Pancreatic Cancer', sub = 'AUC = 0.989')\n",
    "#dev.off()\n",
    "#auc <- performance(pred, 'auc')\n",
    "#cat('auc =', auc@y.values[[1]], '\\n')"
   ]
  },
  {
   "cell_type": "code",
   "execution_count": 41,
   "metadata": {},
   "outputs": [
    {
     "data": {
      "text/html": [
       "<strong>png:</strong> 2"
      ],
      "text/latex": [
       "\\textbf{png:} 2"
      ],
      "text/markdown": [
       "**png:** 2"
      ],
      "text/plain": [
       "png \n",
       "  2 "
      ]
     },
     "metadata": {},
     "output_type": "display_data"
    },
    {
     "name": "stdout",
     "output_type": "stream",
     "text": [
      "auc = 0.9496256 \n"
     ]
    }
   ],
   "source": [
    "## Healthy Control的训练集ROC\n",
    "positive_class <- 'Healthy Control'\n",
    "test_labels[SVM_train_sample$sample_class != positive_class] <- 0\n",
    "test_labels[SVM_train_sample$sample_class == positive_class] <- 1\n",
    "pred <- prediction(train_pre_prob[, positive_class], test_labels)\n",
    "roc <- performance(pred, 'tpr', 'fpr') \n",
    "png(\"Healthy_Control_ROC_SVM_train.png\")\n",
    "plot(roc, main = 'ROC Curve for Healthy Control in Train ', sub = 'AUC = 0.949')\n",
    "dev.off()\n",
    "auc <- performance(pred, 'auc')\n",
    "cat('auc =', auc@y.values[[1]], '\\n')"
   ]
  },
  {
   "cell_type": "code",
   "execution_count": 42,
   "metadata": {},
   "outputs": [
    {
     "data": {
      "text/html": [
       "<strong>png:</strong> 2"
      ],
      "text/latex": [
       "\\textbf{png:} 2"
      ],
      "text/markdown": [
       "**png:** 2"
      ],
      "text/plain": [
       "png \n",
       "  2 "
      ]
     },
     "metadata": {},
     "output_type": "display_data"
    },
    {
     "name": "stdout",
     "output_type": "stream",
     "text": [
      "auc = 0.9286458 \n"
     ]
    }
   ],
   "source": [
    "## Colorectal Cancer的训练集ROC\n",
    "positive_class <- 'Colorectal Cancer'\n",
    "test_labels[SVM_train_sample$sample_class != positive_class] <- 0\n",
    "test_labels[SVM_train_sample$sample_class == positive_class] <- 1\n",
    "pred <- prediction(train_pre_prob[, positive_class], test_labels)\n",
    "roc <- performance(pred, 'tpr', 'fpr') \n",
    "png(\"Col_Can_ROC_SVM_train.png\")\n",
    "plot(roc, main = 'ROC Curve for Colorectal Cancer in Train Set', sub = 'AUC = 0.929')\n",
    "dev.off()\n",
    "auc <- performance(pred, 'auc')\n",
    "cat('auc =', auc@y.values[[1]], '\\n')"
   ]
  },
  {
   "cell_type": "code",
   "execution_count": 43,
   "metadata": {},
   "outputs": [
    {
     "data": {
      "text/html": [
       "<strong>png:</strong> 2"
      ],
      "text/latex": [
       "\\textbf{png:} 2"
      ],
      "text/markdown": [
       "**png:** 2"
      ],
      "text/plain": [
       "png \n",
       "  2 "
      ]
     },
     "metadata": {},
     "output_type": "display_data"
    },
    {
     "name": "stdout",
     "output_type": "stream",
     "text": [
      "auc = 0.9921503 \n"
     ]
    }
   ],
   "source": [
    "## Prostate Cancer的训练集ROC\n",
    "positive_class <- 'Prostate Cancer'\n",
    "test_labels[SVM_train_sample$sample_class != positive_class] <- 0\n",
    "test_labels[SVM_train_sample$sample_class == positive_class] <- 1\n",
    "pred <- prediction(train_pre_prob[, positive_class], test_labels)\n",
    "roc <- performance(pred, 'tpr', 'fpr') \n",
    "png(\"Pro_Can_ROC_SVM_train.png\")\n",
    "plot(roc, main = 'ROC Curve for Prostate Cancer in Train Set', sub = 'AUC = 0.992')\n",
    "dev.off()\n",
    "auc <- performance(pred, 'auc')\n",
    "cat('auc =', auc@y.values[[1]], '\\n')"
   ]
  },
  {
   "cell_type": "code",
   "execution_count": 44,
   "metadata": {},
   "outputs": [
    {
     "data": {
      "text/html": [
       "<strong>png:</strong> 2"
      ],
      "text/latex": [
       "\\textbf{png:} 2"
      ],
      "text/markdown": [
       "**png:** 2"
      ],
      "text/plain": [
       "png \n",
       "  2 "
      ]
     },
     "metadata": {},
     "output_type": "display_data"
    },
    {
     "name": "stdout",
     "output_type": "stream",
     "text": [
      "auc = 0.7280405 \n"
     ]
    }
   ],
   "source": [
    "## Pancreatic Cancer的训练集ROC\n",
    "positive_class <- 'Pancreatic Cancer'\n",
    "test_labels[SVM_train_sample$sample_class != positive_class] <- 0\n",
    "test_labels[SVM_train_sample$sample_class == positive_class] <- 1\n",
    "pred <- prediction(train_pre_prob[, positive_class], test_labels)\n",
    "roc <- performance(pred, 'tpr', 'fpr') \n",
    "png(\"Pan_Can_ROC_SVM_train.png\")\n",
    "plot(roc, main = 'ROC Curve for Pancreatic Cancer in Train Set', sub = 'AUC = 0.728')\n",
    "dev.off()\n",
    "auc <- performance(pred, 'auc')\n",
    "cat('auc =', auc@y.values[[1]], '\\n')"
   ]
  },
  {
   "cell_type": "code",
   "execution_count": null,
   "metadata": {},
   "outputs": [],
   "source": []
  }
 ],
 "metadata": {
  "kernelspec": {
   "display_name": "R",
   "language": "R",
   "name": "ir"
  },
  "language_info": {
   "codemirror_mode": "r",
   "file_extension": ".r",
   "mimetype": "text/x-r-source",
   "name": "R",
   "pygments_lexer": "r",
   "version": "3.4.3"
  }
 },
 "nbformat": 4,
 "nbformat_minor": 2
}
