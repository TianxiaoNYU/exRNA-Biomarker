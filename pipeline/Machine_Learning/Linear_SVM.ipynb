{
 "cells": [
  {
   "cell_type": "code",
   "execution_count": 9,
   "metadata": {},
   "outputs": [],
   "source": [
    "set.seed(1919)\n",
    "library(e1071)\n",
    "library(dplyr)\n",
    "library(ROCR)"
   ]
  },
  {
   "cell_type": "code",
   "execution_count": 10,
   "metadata": {},
   "outputs": [],
   "source": [
    "dat <- read.table(\"RFE_data.txt\", header = T, sep = \"\\t\")\n",
    "sample_dat <- read.table(\"scirep_classes.txt\", header = T, sep = \",\", stringsAsFactors = F)\n",
    "sample_class <- as.factor(arrange(sample_dat, sample_id)$label)"
   ]
  },
  {
   "cell_type": "code",
   "execution_count": 11,
   "metadata": {},
   "outputs": [],
   "source": [
    "merge_dat <- cbind(dat, sample_class)"
   ]
  },
  {
   "cell_type": "code",
   "execution_count": 12,
   "metadata": {},
   "outputs": [
    {
     "data": {
      "text/html": [
       "<ol class=list-inline>\n",
       "\t<li>'ENST00000623130.1'</li>\n",
       "\t<li>'ENST00000383869.1'</li>\n",
       "\t<li>'piR.hsa.23317'</li>\n",
       "\t<li>'ENST00000516053.2'</li>\n",
       "\t<li>'ENST00000626826.1'</li>\n",
       "\t<li>'ENST00000362154.1'</li>\n",
       "\t<li>'ENST00000536684.2'</li>\n",
       "\t<li>'ENST00000384886.3'</li>\n",
       "\t<li>'ENST00000384278.1'</li>\n",
       "\t<li>'ENST00000385273.1'</li>\n",
       "\t<li>'sample_class'</li>\n",
       "</ol>\n"
      ],
      "text/latex": [
       "\\begin{enumerate*}\n",
       "\\item 'ENST00000623130.1'\n",
       "\\item 'ENST00000383869.1'\n",
       "\\item 'piR.hsa.23317'\n",
       "\\item 'ENST00000516053.2'\n",
       "\\item 'ENST00000626826.1'\n",
       "\\item 'ENST00000362154.1'\n",
       "\\item 'ENST00000536684.2'\n",
       "\\item 'ENST00000384886.3'\n",
       "\\item 'ENST00000384278.1'\n",
       "\\item 'ENST00000385273.1'\n",
       "\\item 'sample\\_class'\n",
       "\\end{enumerate*}\n"
      ],
      "text/markdown": [
       "1. 'ENST00000623130.1'\n",
       "2. 'ENST00000383869.1'\n",
       "3. 'piR.hsa.23317'\n",
       "4. 'ENST00000516053.2'\n",
       "5. 'ENST00000626826.1'\n",
       "6. 'ENST00000362154.1'\n",
       "7. 'ENST00000536684.2'\n",
       "8. 'ENST00000384886.3'\n",
       "9. 'ENST00000384278.1'\n",
       "10. 'ENST00000385273.1'\n",
       "11. 'sample_class'\n",
       "\n",
       "\n"
      ],
      "text/plain": [
       " [1] \"ENST00000623130.1\" \"ENST00000383869.1\" \"piR.hsa.23317\"    \n",
       " [4] \"ENST00000516053.2\" \"ENST00000626826.1\" \"ENST00000362154.1\"\n",
       " [7] \"ENST00000536684.2\" \"ENST00000384886.3\" \"ENST00000384278.1\"\n",
       "[10] \"ENST00000385273.1\" \"sample_class\"     "
      ]
     },
     "metadata": {},
     "output_type": "display_data"
    }
   ],
   "source": [
    "colnames(merge_dat)"
   ]
  },
  {
   "cell_type": "code",
   "execution_count": 13,
   "metadata": {},
   "outputs": [],
   "source": [
    "n_samples <- nrow(merge_dat)\n",
    "n_train <- floor(n_samples * 0.8)\n",
    "indices <- sample(1:n_samples)\n",
    "indices <- indices[1:n_train]\n",
    "SVM_train_sample <- merge_dat[indices,]\n",
    "SVM_test_sample <- merge_dat[-indices,]"
   ]
  },
  {
   "cell_type": "code",
   "execution_count": 14,
   "metadata": {},
   "outputs": [],
   "source": [
    "svm.prob.fit<-svm(sample_class ~ ENST00000623130.1 + ENST00000383869.1 + piR.hsa.23317 + ENST00000516053.2 +\n",
    "            ENST00000626826.1 + ENST00000362154.1 + ENST00000536684.2 + ENST00000384886.3 + ENST00000384278.1+\n",
    "            ENST00000385273.1, data = SVM_train_sample, probability = TRUE)\n",
    "predicted_probs <- predict(svm.prob.fit, SVM_test_sample, probability = TRUE)\n",
    "stat_res <- table(predicted_probs, SVM_test_sample$sample_class)\n",
    "pre_prob <- attr(predicted_probs, \"probabilities\")\n",
    "train_predicted_probs <- predict(svm.prob.fit, SVM_train_sample, probability = TRUE)\n",
    "train_stat_res <- table(train_predicted_probs, SVM_train_sample$sample_class)\n",
    "train_pre_prob <- attr(train_predicted_probs, \"probabilities\")"
   ]
  },
  {
   "cell_type": "code",
   "execution_count": 15,
   "metadata": {},
   "outputs": [
    {
     "data": {
      "text/plain": [
       "                   \n",
       "predicted_probs     Colorectal Cancer Healthy Control Pancreatic Cancer\n",
       "  Colorectal Cancer                18               2                 0\n",
       "  Healthy Control                   5               5                 1\n",
       "  Pancreatic Cancer                 0               0                 0\n",
       "  Prostate Cancer                   2               1                 0\n",
       "                   \n",
       "predicted_probs     Prostate Cancer\n",
       "  Colorectal Cancer               0\n",
       "  Healthy Control                 0\n",
       "  Pancreatic Cancer               0\n",
       "  Prostate Cancer                 5"
      ]
     },
     "metadata": {},
     "output_type": "display_data"
    },
    {
     "data": {
      "text/html": [
       "<dl class=dl-horizontal>\n",
       "\t<dt>Sample_1S10</dt>\n",
       "\t\t<dd>Colorectal Cancer</dd>\n",
       "\t<dt>Sample_1S13</dt>\n",
       "\t\t<dd>Colorectal Cancer</dd>\n",
       "\t<dt>Sample_1S17</dt>\n",
       "\t\t<dd>Colorectal Cancer</dd>\n",
       "\t<dt>Sample_1S20</dt>\n",
       "\t\t<dd>Colorectal Cancer</dd>\n",
       "\t<dt>Sample_1S22</dt>\n",
       "\t\t<dd>Healthy Control</dd>\n",
       "\t<dt>Sample_1S5</dt>\n",
       "\t\t<dd>Colorectal Cancer</dd>\n",
       "\t<dt>Sample_1S6</dt>\n",
       "\t\t<dd>Colorectal Cancer</dd>\n",
       "\t<dt>Sample_2S14</dt>\n",
       "\t\t<dd>Healthy Control</dd>\n",
       "\t<dt>Sample_2S16</dt>\n",
       "\t\t<dd>Colorectal Cancer</dd>\n",
       "\t<dt>Sample_2S21</dt>\n",
       "\t\t<dd>Colorectal Cancer</dd>\n",
       "\t<dt>Sample_2S23</dt>\n",
       "\t\t<dd>Prostate Cancer</dd>\n",
       "\t<dt>Sample_2S3</dt>\n",
       "\t\t<dd>Colorectal Cancer</dd>\n",
       "\t<dt>Sample_2S5</dt>\n",
       "\t\t<dd>Colorectal Cancer</dd>\n",
       "\t<dt>Sample_2S7</dt>\n",
       "\t\t<dd>Healthy Control</dd>\n",
       "\t<dt>Sample_3S12</dt>\n",
       "\t\t<dd>Colorectal Cancer</dd>\n",
       "\t<dt>Sample_3S16</dt>\n",
       "\t\t<dd>Colorectal Cancer</dd>\n",
       "\t<dt>Sample_3S20</dt>\n",
       "\t\t<dd>Healthy Control</dd>\n",
       "\t<dt>Sample_4S1</dt>\n",
       "\t\t<dd>Colorectal Cancer</dd>\n",
       "\t<dt>Sample_4S12</dt>\n",
       "\t\t<dd>Colorectal Cancer</dd>\n",
       "\t<dt>Sample_4S15</dt>\n",
       "\t\t<dd>Colorectal Cancer</dd>\n",
       "\t<dt>Sample_4S16</dt>\n",
       "\t\t<dd>Healthy Control</dd>\n",
       "\t<dt>Sample_4S22</dt>\n",
       "\t\t<dd>Prostate Cancer</dd>\n",
       "\t<dt>Sample_4S23</dt>\n",
       "\t\t<dd>Colorectal Cancer</dd>\n",
       "\t<dt>Sample_4S5</dt>\n",
       "\t\t<dd>Colorectal Cancer</dd>\n",
       "\t<dt>Sample_4S9</dt>\n",
       "\t\t<dd>Colorectal Cancer</dd>\n",
       "\t<dt>Sample_N15</dt>\n",
       "\t\t<dd>Healthy Control</dd>\n",
       "\t<dt>Sample_N21</dt>\n",
       "\t\t<dd>Healthy Control</dd>\n",
       "\t<dt>Sample_N23</dt>\n",
       "\t\t<dd>Colorectal Cancer</dd>\n",
       "\t<dt>Sample_N25</dt>\n",
       "\t\t<dd>Healthy Control</dd>\n",
       "\t<dt>Sample_N28</dt>\n",
       "\t\t<dd>Healthy Control</dd>\n",
       "\t<dt>Sample_N29</dt>\n",
       "\t\t<dd>Healthy Control</dd>\n",
       "\t<dt>Sample_N42</dt>\n",
       "\t\t<dd>Colorectal Cancer</dd>\n",
       "\t<dt>Sample_N48</dt>\n",
       "\t\t<dd>Prostate Cancer</dd>\n",
       "\t<dt>Sample_Pan02</dt>\n",
       "\t\t<dd>Healthy Control</dd>\n",
       "\t<dt>Sample_PC1</dt>\n",
       "\t\t<dd>Prostate Cancer</dd>\n",
       "\t<dt>Sample_PC17</dt>\n",
       "\t\t<dd>Prostate Cancer</dd>\n",
       "\t<dt>Sample_PC22</dt>\n",
       "\t\t<dd>Prostate Cancer</dd>\n",
       "\t<dt>Sample_PC28</dt>\n",
       "\t\t<dd>Prostate Cancer</dd>\n",
       "\t<dt>Sample_PC6</dt>\n",
       "\t\t<dd>Prostate Cancer</dd>\n",
       "</dl>\n",
       "\n",
       "<details>\n",
       "\t<summary style=display:list-item;cursor:pointer>\n",
       "\t\t<strong>Levels</strong>:\n",
       "\t</summary>\n",
       "\t<ol class=list-inline>\n",
       "\t\t<li>'Colorectal Cancer'</li>\n",
       "\t\t<li>'Healthy Control'</li>\n",
       "\t\t<li>'Pancreatic Cancer'</li>\n",
       "\t\t<li>'Prostate Cancer'</li>\n",
       "\t</ol>\n",
       "</details>"
      ],
      "text/latex": [
       "\\begin{description*}\n",
       "\\item[Sample\\textbackslash{}\\_1S10] Colorectal Cancer\n",
       "\\item[Sample\\textbackslash{}\\_1S13] Colorectal Cancer\n",
       "\\item[Sample\\textbackslash{}\\_1S17] Colorectal Cancer\n",
       "\\item[Sample\\textbackslash{}\\_1S20] Colorectal Cancer\n",
       "\\item[Sample\\textbackslash{}\\_1S22] Healthy Control\n",
       "\\item[Sample\\textbackslash{}\\_1S5] Colorectal Cancer\n",
       "\\item[Sample\\textbackslash{}\\_1S6] Colorectal Cancer\n",
       "\\item[Sample\\textbackslash{}\\_2S14] Healthy Control\n",
       "\\item[Sample\\textbackslash{}\\_2S16] Colorectal Cancer\n",
       "\\item[Sample\\textbackslash{}\\_2S21] Colorectal Cancer\n",
       "\\item[Sample\\textbackslash{}\\_2S23] Prostate Cancer\n",
       "\\item[Sample\\textbackslash{}\\_2S3] Colorectal Cancer\n",
       "\\item[Sample\\textbackslash{}\\_2S5] Colorectal Cancer\n",
       "\\item[Sample\\textbackslash{}\\_2S7] Healthy Control\n",
       "\\item[Sample\\textbackslash{}\\_3S12] Colorectal Cancer\n",
       "\\item[Sample\\textbackslash{}\\_3S16] Colorectal Cancer\n",
       "\\item[Sample\\textbackslash{}\\_3S20] Healthy Control\n",
       "\\item[Sample\\textbackslash{}\\_4S1] Colorectal Cancer\n",
       "\\item[Sample\\textbackslash{}\\_4S12] Colorectal Cancer\n",
       "\\item[Sample\\textbackslash{}\\_4S15] Colorectal Cancer\n",
       "\\item[Sample\\textbackslash{}\\_4S16] Healthy Control\n",
       "\\item[Sample\\textbackslash{}\\_4S22] Prostate Cancer\n",
       "\\item[Sample\\textbackslash{}\\_4S23] Colorectal Cancer\n",
       "\\item[Sample\\textbackslash{}\\_4S5] Colorectal Cancer\n",
       "\\item[Sample\\textbackslash{}\\_4S9] Colorectal Cancer\n",
       "\\item[Sample\\textbackslash{}\\_N15] Healthy Control\n",
       "\\item[Sample\\textbackslash{}\\_N21] Healthy Control\n",
       "\\item[Sample\\textbackslash{}\\_N23] Colorectal Cancer\n",
       "\\item[Sample\\textbackslash{}\\_N25] Healthy Control\n",
       "\\item[Sample\\textbackslash{}\\_N28] Healthy Control\n",
       "\\item[Sample\\textbackslash{}\\_N29] Healthy Control\n",
       "\\item[Sample\\textbackslash{}\\_N42] Colorectal Cancer\n",
       "\\item[Sample\\textbackslash{}\\_N48] Prostate Cancer\n",
       "\\item[Sample\\textbackslash{}\\_Pan02] Healthy Control\n",
       "\\item[Sample\\textbackslash{}\\_PC1] Prostate Cancer\n",
       "\\item[Sample\\textbackslash{}\\_PC17] Prostate Cancer\n",
       "\\item[Sample\\textbackslash{}\\_PC22] Prostate Cancer\n",
       "\\item[Sample\\textbackslash{}\\_PC28] Prostate Cancer\n",
       "\\item[Sample\\textbackslash{}\\_PC6] Prostate Cancer\n",
       "\\end{description*}\n",
       "\n",
       "\\emph{Levels}: \\begin{enumerate*}\n",
       "\\item 'Colorectal Cancer'\n",
       "\\item 'Healthy Control'\n",
       "\\item 'Pancreatic Cancer'\n",
       "\\item 'Prostate Cancer'\n",
       "\\end{enumerate*}\n"
      ],
      "text/markdown": [
       "Sample_1S10\n",
       ":   Colorectal CancerSample_1S13\n",
       ":   Colorectal CancerSample_1S17\n",
       ":   Colorectal CancerSample_1S20\n",
       ":   Colorectal CancerSample_1S22\n",
       ":   Healthy ControlSample_1S5\n",
       ":   Colorectal CancerSample_1S6\n",
       ":   Colorectal CancerSample_2S14\n",
       ":   Healthy ControlSample_2S16\n",
       ":   Colorectal CancerSample_2S21\n",
       ":   Colorectal CancerSample_2S23\n",
       ":   Prostate CancerSample_2S3\n",
       ":   Colorectal CancerSample_2S5\n",
       ":   Colorectal CancerSample_2S7\n",
       ":   Healthy ControlSample_3S12\n",
       ":   Colorectal CancerSample_3S16\n",
       ":   Colorectal CancerSample_3S20\n",
       ":   Healthy ControlSample_4S1\n",
       ":   Colorectal CancerSample_4S12\n",
       ":   Colorectal CancerSample_4S15\n",
       ":   Colorectal CancerSample_4S16\n",
       ":   Healthy ControlSample_4S22\n",
       ":   Prostate CancerSample_4S23\n",
       ":   Colorectal CancerSample_4S5\n",
       ":   Colorectal CancerSample_4S9\n",
       ":   Colorectal CancerSample_N15\n",
       ":   Healthy ControlSample_N21\n",
       ":   Healthy ControlSample_N23\n",
       ":   Colorectal CancerSample_N25\n",
       ":   Healthy ControlSample_N28\n",
       ":   Healthy ControlSample_N29\n",
       ":   Healthy ControlSample_N42\n",
       ":   Colorectal CancerSample_N48\n",
       ":   Prostate CancerSample_Pan02\n",
       ":   Healthy ControlSample_PC1\n",
       ":   Prostate CancerSample_PC17\n",
       ":   Prostate CancerSample_PC22\n",
       ":   Prostate CancerSample_PC28\n",
       ":   Prostate CancerSample_PC6\n",
       ":   Prostate Cancer\n",
       "\n",
       "\n",
       "**Levels**: 1. 'Colorectal Cancer'\n",
       "2. 'Healthy Control'\n",
       "3. 'Pancreatic Cancer'\n",
       "4. 'Prostate Cancer'\n",
       "\n",
       "\n"
      ],
      "text/plain": [
       "      Sample_1S10       Sample_1S13       Sample_1S17       Sample_1S20 \n",
       "Colorectal Cancer Colorectal Cancer Colorectal Cancer Colorectal Cancer \n",
       "      Sample_1S22        Sample_1S5        Sample_1S6       Sample_2S14 \n",
       "  Healthy Control Colorectal Cancer Colorectal Cancer   Healthy Control \n",
       "      Sample_2S16       Sample_2S21       Sample_2S23        Sample_2S3 \n",
       "Colorectal Cancer Colorectal Cancer   Prostate Cancer Colorectal Cancer \n",
       "       Sample_2S5        Sample_2S7       Sample_3S12       Sample_3S16 \n",
       "Colorectal Cancer   Healthy Control Colorectal Cancer Colorectal Cancer \n",
       "      Sample_3S20        Sample_4S1       Sample_4S12       Sample_4S15 \n",
       "  Healthy Control Colorectal Cancer Colorectal Cancer Colorectal Cancer \n",
       "      Sample_4S16       Sample_4S22       Sample_4S23        Sample_4S5 \n",
       "  Healthy Control   Prostate Cancer Colorectal Cancer Colorectal Cancer \n",
       "       Sample_4S9        Sample_N15        Sample_N21        Sample_N23 \n",
       "Colorectal Cancer   Healthy Control   Healthy Control Colorectal Cancer \n",
       "       Sample_N25        Sample_N28        Sample_N29        Sample_N42 \n",
       "  Healthy Control   Healthy Control   Healthy Control Colorectal Cancer \n",
       "       Sample_N48      Sample_Pan02        Sample_PC1       Sample_PC17 \n",
       "  Prostate Cancer   Healthy Control   Prostate Cancer   Prostate Cancer \n",
       "      Sample_PC22       Sample_PC28        Sample_PC6 \n",
       "  Prostate Cancer   Prostate Cancer   Prostate Cancer \n",
       "attr(,\"probabilities\")\n",
       "             Colorectal Cancer Healthy Control Pancreatic Cancer\n",
       "Sample_1S10         0.57948703      0.26725744        0.03133180\n",
       "Sample_1S13         0.64769404      0.28927731        0.03792373\n",
       "Sample_1S17         0.76909830      0.18147022        0.03561302\n",
       "Sample_1S20         0.69593491      0.17815609        0.03086646\n",
       "Sample_1S22         0.09976417      0.86011523        0.03360923\n",
       "Sample_1S5          0.88401693      0.02471721        0.03656931\n",
       "Sample_1S6          0.76389822      0.17907806        0.04274569\n",
       "Sample_2S14         0.38645433      0.52366220        0.04579143\n",
       "Sample_2S16         0.68197859      0.27156713        0.03934481\n",
       "Sample_2S21         0.82701701      0.12266889        0.03959675\n",
       "Sample_2S23         0.33749597      0.03944945        0.03246921\n",
       "Sample_2S3          0.56172145      0.38614646        0.04317324\n",
       "Sample_2S5          0.76582393      0.12385483        0.03878479\n",
       "Sample_2S7          0.44228838      0.51249454        0.03367518\n",
       "Sample_3S12         0.68091234      0.16244136        0.03091833\n",
       "Sample_3S16         0.64005097      0.13092652        0.04118478\n",
       "Sample_3S20         0.44822166      0.49876764        0.04757938\n",
       "Sample_4S1          0.88654167      0.05317997        0.03801804\n",
       "Sample_4S12         0.60597220      0.33163475        0.03307163\n",
       "Sample_4S15         0.57507871      0.34725072        0.04133284\n",
       "Sample_4S16         0.19558225      0.75803992        0.03429245\n",
       "Sample_4S22         0.16757196      0.04091996        0.04069339\n",
       "Sample_4S23         0.81028569      0.11834123        0.03048972\n",
       "Sample_4S5          0.61471359      0.29484873        0.03200537\n",
       "Sample_4S9          0.83388485      0.05569996        0.03616690\n",
       "Sample_N15          0.17636202      0.78462811        0.03240750\n",
       "Sample_N21          0.18540578      0.43727530        0.04472520\n",
       "Sample_N23          0.63152079      0.32285149        0.03880187\n",
       "Sample_N25          0.29195099      0.64496752        0.05297501\n",
       "Sample_N28          0.22661286      0.67407589        0.04212687\n",
       "Sample_N29          0.13878058      0.81020724        0.04382846\n",
       "Sample_N42          0.78745834      0.11034268        0.03246520\n",
       "Sample_N48          0.11986841      0.09331666        0.02278965\n",
       "Sample_Pan02        0.27648166      0.67884832        0.03345082\n",
       "Sample_PC1          0.42416558      0.05298221        0.03878029\n",
       "Sample_PC17         0.16537666      0.27494391        0.03065226\n",
       "Sample_PC22         0.10002697      0.02948887        0.03486510\n",
       "Sample_PC28         0.02291143      0.01024213        0.01771532\n",
       "Sample_PC6          0.31967880      0.01174648        0.02427893\n",
       "             Prostate Cancer\n",
       "Sample_1S10      0.121923730\n",
       "Sample_1S13      0.025104922\n",
       "Sample_1S17      0.013818471\n",
       "Sample_1S20      0.095042539\n",
       "Sample_1S22      0.006511376\n",
       "Sample_1S5       0.054696545\n",
       "Sample_1S6       0.014278024\n",
       "Sample_2S14      0.044092049\n",
       "Sample_2S16      0.007109470\n",
       "Sample_2S21      0.010717346\n",
       "Sample_2S23      0.590585367\n",
       "Sample_2S3       0.008958857\n",
       "Sample_2S5       0.071536448\n",
       "Sample_2S7       0.011541903\n",
       "Sample_3S12      0.125727967\n",
       "Sample_3S16      0.187837739\n",
       "Sample_3S20      0.005431315\n",
       "Sample_4S1       0.022260313\n",
       "Sample_4S12      0.029321428\n",
       "Sample_4S15      0.036337736\n",
       "Sample_4S16      0.012085378\n",
       "Sample_4S22      0.750814689\n",
       "Sample_4S23      0.040883360\n",
       "Sample_4S5       0.058432303\n",
       "Sample_4S9       0.074248289\n",
       "Sample_N15       0.006602366\n",
       "Sample_N21       0.332593721\n",
       "Sample_N23       0.006825847\n",
       "Sample_N25       0.010106474\n",
       "Sample_N28       0.057184374\n",
       "Sample_N29       0.007183715\n",
       "Sample_N42       0.069733779\n",
       "Sample_N48       0.764025273\n",
       "Sample_Pan02     0.011219209\n",
       "Sample_PC1       0.484071924\n",
       "Sample_PC17      0.529027173\n",
       "Sample_PC22      0.835619056\n",
       "Sample_PC28      0.949131128\n",
       "Sample_PC6       0.644295780\n",
       "4 Levels: Colorectal Cancer Healthy Control ... Prostate Cancer"
      ]
     },
     "metadata": {},
     "output_type": "display_data"
    }
   ],
   "source": [
    "stat_res\n",
    "predicted_probs"
   ]
  },
  {
   "cell_type": "code",
   "execution_count": 16,
   "metadata": {},
   "outputs": [
    {
     "data": {
      "text/html": [
       "0.717948717948718"
      ],
      "text/latex": [
       "0.717948717948718"
      ],
      "text/markdown": [
       "0.717948717948718"
      ],
      "text/plain": [
       "[1] 0.7179487"
      ]
     },
     "metadata": {},
     "output_type": "display_data"
    }
   ],
   "source": [
    "accurary <- (stat_res[1, 1] + stat_res[2, 2] + stat_res[3, 3] + stat_res[4, 4])/length(predicted_probs)\n",
    "accurary"
   ]
  },
  {
   "cell_type": "code",
   "execution_count": 25,
   "metadata": {},
   "outputs": [
    {
     "data": {
      "text/html": [
       "<strong>png:</strong> 2"
      ],
      "text/latex": [
       "\\textbf{png:} 2"
      ],
      "text/markdown": [
       "**png:** 2"
      ],
      "text/plain": [
       "png \n",
       "  2 "
      ]
     },
     "metadata": {},
     "output_type": "display_data"
    },
    {
     "name": "stdout",
     "output_type": "stream",
     "text": [
      "auc = 0.8371429 \n"
     ]
    }
   ],
   "source": [
    "## Colorectal Cancer的测试集ROC\n",
    "positive_class <- 'Colorectal Cancer'\n",
    "test_labels <- vector('integer', length(predicted_probs))\n",
    "test_labels[SVM_test_sample$sample_class != positive_class] <- 0\n",
    "test_labels[SVM_test_sample$sample_class == positive_class] <- 1\n",
    "pred <- prediction(pre_prob[, positive_class], test_labels)\n",
    "roc <- performance(pred, 'tpr', 'fpr') \n",
    "pdf(\"Col_Can_ROC_SVM_test.pdf\")\n",
    "plot(roc, main = 'ROC Curve for Colorectal Cancer', sub = 'AUC = 0.837')\n",
    "dev.off()\n",
    "auc <- performance(pred, 'auc')\n",
    "cat('auc =', auc@y.values[[1]], '\\n')"
   ]
  },
  {
   "cell_type": "code",
   "execution_count": 26,
   "metadata": {},
   "outputs": [
    {
     "data": {
      "text/html": [
       "<strong>png:</strong> 2"
      ],
      "text/latex": [
       "\\textbf{png:} 2"
      ],
      "text/markdown": [
       "**png:** 2"
      ],
      "text/plain": [
       "png \n",
       "  2 "
      ]
     },
     "metadata": {},
     "output_type": "display_data"
    },
    {
     "name": "stdout",
     "output_type": "stream",
     "text": [
      "auc = 0.7298387 \n"
     ]
    }
   ],
   "source": [
    "## Healthy Control的测试集ROC\n",
    "positive_class <- 'Healthy Control'\n",
    "test_labels[SVM_test_sample$sample_class != positive_class] <- 0\n",
    "test_labels[SVM_test_sample$sample_class == positive_class] <- 1\n",
    "pred <- prediction(pre_prob[, positive_class], test_labels)\n",
    "roc <- performance(pred, 'tpr', 'fpr') \n",
    "pdf(\"Healthy_Control_ROC_SVM_test.pdf\")\n",
    "plot(roc, main = 'ROC Curve for Healthy Control', sub = 'AUC = 0.730')\n",
    "dev.off()\n",
    "auc <- performance(pred, 'auc')\n",
    "cat('auc =', auc@y.values[[1]], '\\n')"
   ]
  },
  {
   "cell_type": "code",
   "execution_count": 27,
   "metadata": {},
   "outputs": [
    {
     "data": {
      "text/html": [
       "<strong>png:</strong> 2"
      ],
      "text/latex": [
       "\\textbf{png:} 2"
      ],
      "text/markdown": [
       "**png:** 2"
      ],
      "text/plain": [
       "png \n",
       "  2 "
      ]
     },
     "metadata": {},
     "output_type": "display_data"
    },
    {
     "name": "stdout",
     "output_type": "stream",
     "text": [
      "auc = 0.9529412 \n"
     ]
    }
   ],
   "source": [
    "## Prostate Cancer的测试集ROC\n",
    "positive_class <- 'Prostate Cancer'\n",
    "test_labels[SVM_test_sample$sample_class != positive_class] <- 0\n",
    "test_labels[SVM_test_sample$sample_class == positive_class] <- 1\n",
    "pred <- prediction(pre_prob[, positive_class], test_labels)\n",
    "roc <- performance(pred, 'tpr', 'fpr') \n",
    "pdf(\"Pro_Can_ROC_SVM_test.pdf\")\n",
    "plot(roc, main = 'ROC Curve for Prostate Cancer', sub = 'AUC = 0.953')\n",
    "dev.off()\n",
    "auc <- performance(pred, 'auc')\n",
    "cat('auc =', auc@y.values[[1]], '\\n')"
   ]
  },
  {
   "cell_type": "code",
   "execution_count": 20,
   "metadata": {},
   "outputs": [],
   "source": [
    "## Pancreatic Cancer样本量过小，故在测试集中不再另行绘制其ROC曲线\n",
    "positive_class <- 'Pancreatic Cancer'\n",
    "test_labels[SVM_test_sample$sample_class != positive_class] <- 0\n",
    "test_labels[SVM_test_sample$sample_class == positive_class] <- 1\n",
    "#pred <- prediction(pre_prob[, positive_class], test_labels)\n",
    "#roc <- performance(pred, 'tpr', 'fpr') \n",
    "#pdf(\"Pan_Can_ROC_SVM_test.pdf\")\n",
    "#plot(roc, main = 'ROC Curve for Pancreatic Cancer', sub = 'AUC = 0.989')\n",
    "#dev.off()\n",
    "#auc <- performance(pred, 'auc')\n",
    "#cat('auc =', auc@y.values[[1]], '\\n')"
   ]
  },
  {
   "cell_type": "code",
   "execution_count": 28,
   "metadata": {},
   "outputs": [
    {
     "data": {
      "text/html": [
       "<strong>png:</strong> 2"
      ],
      "text/latex": [
       "\\textbf{png:} 2"
      ],
      "text/markdown": [
       "**png:** 2"
      ],
      "text/plain": [
       "png \n",
       "  2 "
      ]
     },
     "metadata": {},
     "output_type": "display_data"
    },
    {
     "name": "stdout",
     "output_type": "stream",
     "text": [
      "auc = 0.9532468 \n"
     ]
    }
   ],
   "source": [
    "## Healthy Control的训练集ROC\n",
    "positive_class <- 'Healthy Control'\n",
    "test_labels[SVM_train_sample$sample_class != positive_class] <- 0\n",
    "test_labels[SVM_train_sample$sample_class == positive_class] <- 1\n",
    "pred <- prediction(train_pre_prob[, positive_class], test_labels)\n",
    "roc <- performance(pred, 'tpr', 'fpr') \n",
    "pdf(\"Healthy_Control_ROC_SVM_train.pdf\")\n",
    "plot(roc, main = 'ROC Curve for Healthy Control in Train ', sub = 'AUC = 0.939')\n",
    "dev.off()\n",
    "auc <- performance(pred, 'auc')\n",
    "cat('auc =', auc@y.values[[1]], '\\n')"
   ]
  },
  {
   "cell_type": "code",
   "execution_count": 29,
   "metadata": {},
   "outputs": [
    {
     "data": {
      "text/html": [
       "<strong>png:</strong> 2"
      ],
      "text/latex": [
       "\\textbf{png:} 2"
      ],
      "text/markdown": [
       "**png:** 2"
      ],
      "text/plain": [
       "png \n",
       "  2 "
      ]
     },
     "metadata": {},
     "output_type": "display_data"
    },
    {
     "name": "stdout",
     "output_type": "stream",
     "text": [
      "auc = 0.9152807 \n"
     ]
    }
   ],
   "source": [
    "## Colorectal Cancer的训练集ROC\n",
    "positive_class <- 'Colorectal Cancer'\n",
    "test_labels[SVM_train_sample$sample_class != positive_class] <- 0\n",
    "test_labels[SVM_train_sample$sample_class == positive_class] <- 1\n",
    "pred <- prediction(train_pre_prob[, positive_class], test_labels)\n",
    "roc <- performance(pred, 'tpr', 'fpr') \n",
    "pdf(\"Col_Can_ROC_SVM_train.pdf\")\n",
    "plot(roc, main = 'ROC Curve for Colorectal Cancer in Train Set', sub = 'AUC = 0.915')\n",
    "dev.off()\n",
    "auc <- performance(pred, 'auc')\n",
    "cat('auc =', auc@y.values[[1]], '\\n')"
   ]
  },
  {
   "cell_type": "code",
   "execution_count": 30,
   "metadata": {},
   "outputs": [
    {
     "data": {
      "text/html": [
       "<strong>png:</strong> 2"
      ],
      "text/latex": [
       "\\textbf{png:} 2"
      ],
      "text/markdown": [
       "**png:** 2"
      ],
      "text/plain": [
       "png \n",
       "  2 "
      ]
     },
     "metadata": {},
     "output_type": "display_data"
    },
    {
     "name": "stdout",
     "output_type": "stream",
     "text": [
      "auc = 0.9928019 \n"
     ]
    }
   ],
   "source": [
    "## Prostate Cancer的训练集ROC\n",
    "positive_class <- 'Prostate Cancer'\n",
    "test_labels[SVM_train_sample$sample_class != positive_class] <- 0\n",
    "test_labels[SVM_train_sample$sample_class == positive_class] <- 1\n",
    "pred <- prediction(train_pre_prob[, positive_class], test_labels)\n",
    "roc <- performance(pred, 'tpr', 'fpr') \n",
    "pdf(\"Pro_Can_ROC_SVM_train.pdf\")\n",
    "plot(roc, main = 'ROC Curve for Prostate Cancer in Train Set', sub = 'AUC = 0.993')\n",
    "dev.off()\n",
    "auc <- performance(pred, 'auc')\n",
    "cat('auc =', auc@y.values[[1]], '\\n')"
   ]
  },
  {
   "cell_type": "code",
   "execution_count": 31,
   "metadata": {},
   "outputs": [
    {
     "data": {
      "text/html": [
       "<strong>png:</strong> 2"
      ],
      "text/latex": [
       "\\textbf{png:} 2"
      ],
      "text/markdown": [
       "**png:** 2"
      ],
      "text/plain": [
       "png \n",
       "  2 "
      ]
     },
     "metadata": {},
     "output_type": "display_data"
    },
    {
     "name": "stdout",
     "output_type": "stream",
     "text": [
      "auc = 0.8353741 \n"
     ]
    }
   ],
   "source": [
    "## Pancreatic Cancer的训练集ROC\n",
    "positive_class <- 'Pancreatic Cancer'\n",
    "test_labels[SVM_train_sample$sample_class != positive_class] <- 0\n",
    "test_labels[SVM_train_sample$sample_class == positive_class] <- 1\n",
    "pred <- prediction(train_pre_prob[, positive_class], test_labels)\n",
    "roc <- performance(pred, 'tpr', 'fpr') \n",
    "pdf(\"Pan_Can_ROC_SVM_train.pdf\")\n",
    "plot(roc, main = 'ROC Curve for Pancreatic Cancer in Train Set', sub = 'AUC = 0.835')\n",
    "dev.off()\n",
    "auc <- performance(pred, 'auc')\n",
    "cat('auc =', auc@y.values[[1]], '\\n')"
   ]
  },
  {
   "cell_type": "code",
   "execution_count": null,
   "metadata": {},
   "outputs": [],
   "source": []
  }
 ],
 "metadata": {
  "kernelspec": {
   "display_name": "R",
   "language": "R",
   "name": "ir"
  },
  "language_info": {
   "codemirror_mode": "r",
   "file_extension": ".r",
   "mimetype": "text/x-r-source",
   "name": "R",
   "pygments_lexer": "r",
   "version": "3.4.3"
  }
 },
 "nbformat": 4,
 "nbformat_minor": 2
}
