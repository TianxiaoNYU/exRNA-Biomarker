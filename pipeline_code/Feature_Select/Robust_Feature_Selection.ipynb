{
 "cells": [
  {
   "cell_type": "code",
   "execution_count": 1,
   "metadata": {
    "collapsed": true
   },
   "outputs": [
    {
     "name": "stderr",
     "output_type": "stream",
     "text": [
      "\n",
      "Attaching package: ‘dplyr’\n",
      "\n",
      "The following objects are masked from ‘package:stats’:\n",
      "\n",
      "    filter, lag\n",
      "\n",
      "The following objects are masked from ‘package:base’:\n",
      "\n",
      "    intersect, setdiff, setequal, union\n",
      "\n",
      "Loading required package: lattice\n"
     ]
    }
   ],
   "source": [
    "library(dplyr)\n",
    "library(ggplot2)\n",
    "library(caret)\n",
    "library(mlbench)\n",
    "library(nnet)"
   ]
  },
  {
   "cell_type": "code",
   "execution_count": 2,
   "metadata": {},
   "outputs": [],
   "source": [
    "## Data Import $ Process\n",
    "raw_dat <- read.table(\"~/ZTX/SCnorm_Combat_Exp_Matrix.txt\", header = T, row.names = 1, sep = \"\\t\", stringsAsFactors = F)\n",
    "raw_dat[,1:ncol(raw_dat)] <- lapply(raw_dat[,1:ncol(raw_dat)], as.numeric)\n",
    "raw_dat<- scale(raw_dat)\n",
    "raw_dat <- as.data.frame(t(raw_dat))\n",
    "raw_dat$names <- rownames(raw_dat)\n",
    "raw_dat <- arrange(raw_dat, names)\n",
    "rownames(raw_dat) <- raw_dat$names\n",
    "raw_dat <- raw_dat[,-ncol(raw_dat)]\n",
    "\n",
    "## Label of Samples\n",
    "sample_dat <- read.table(\"~/ZTX/scirep_classes.txt\", header = T, sep = \",\", stringsAsFactors = F)\n",
    "sample_class <- as.factor(arrange(sample_dat, sample_id)$label)"
   ]
  },
  {
   "cell_type": "code",
   "execution_count": null,
   "metadata": {},
   "outputs": [],
   "source": [
    "RFS <- matrix(0, nrow = 10, ncol = 30)\n",
    "for(i in 1:30){\n",
    "    subsets = 10\n",
    "    ctrl= rfeControl(functions = rfFuncs, method = \"cv\",verbose = FALSE, returnResamp = \"final\")\n",
    "    Profile = rfe(raw_dat, sample_class, sizes = subsets, rfeControl = ctrl)\n",
    "    RFS[,i] <- Profile$optVariables\n",
    "}"
   ]
  },
  {
   "cell_type": "code",
   "execution_count": null,
   "metadata": {},
   "outputs": [],
   "source": []
  }
 ],
 "metadata": {
  "kernelspec": {
   "display_name": "R",
   "language": "R",
   "name": "ir"
  },
  "language_info": {
   "codemirror_mode": "r",
   "file_extension": ".r",
   "mimetype": "text/x-r-source",
   "name": "R",
   "pygments_lexer": "r",
   "version": "3.4.3"
  }
 },
 "nbformat": 4,
 "nbformat_minor": 2
}
