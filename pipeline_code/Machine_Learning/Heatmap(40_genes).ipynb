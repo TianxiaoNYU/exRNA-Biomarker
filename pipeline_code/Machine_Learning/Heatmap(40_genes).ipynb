{
 "cells": [
  {
   "cell_type": "code",
   "execution_count": 13,
   "metadata": {},
   "outputs": [
    {
     "name": "stderr",
     "output_type": "stream",
     "text": [
      "\n",
      "Attaching package: ‘gplots’\n",
      "\n",
      "The following object is masked from ‘package:stats’:\n",
      "\n",
      "    lowess\n",
      "\n"
     ]
    }
   ],
   "source": [
    "library(gplots)\n",
    "library(pheatmap)\n",
    "library(scales)\n",
    "library(reshape2)\n",
    "library(RColorBrewer)"
   ]
  },
  {
   "cell_type": "code",
   "execution_count": 16,
   "metadata": {},
   "outputs": [],
   "source": [
    "dat <- read.table(\"RFE_data_40_genes.txt\", header = T, sep = \"\\t\")\n",
    "dat <- t(scale(dat))"
   ]
  },
  {
   "cell_type": "code",
   "execution_count": 2,
   "metadata": {},
   "outputs": [],
   "source": [
    "p <- as.data.frame(colnames(dat))"
   ]
  },
  {
   "cell_type": "code",
   "execution_count": 8,
   "metadata": {},
   "outputs": [],
   "source": []
  },
  {
   "cell_type": "code",
   "execution_count": 17,
   "metadata": {},
   "outputs": [
    {
     "data": {
      "text/html": [
       "<table>\n",
       "<thead><tr><th></th><th scope=col>Sample_1S1</th><th scope=col>Sample_1S10</th><th scope=col>Sample_1S11</th><th scope=col>Sample_1S12</th><th scope=col>Sample_1S13</th><th scope=col>Sample_1S14</th><th scope=col>Sample_1S15</th><th scope=col>Sample_1S16</th><th scope=col>Sample_1S17</th><th scope=col>Sample_1S18</th><th scope=col>⋯</th><th scope=col>Sample_PC33</th><th scope=col>Sample_PC34</th><th scope=col>Sample_PC35</th><th scope=col>Sample_PC36</th><th scope=col>Sample_PC4</th><th scope=col>Sample_PC5</th><th scope=col>Sample_PC6</th><th scope=col>Sample_PC7</th><th scope=col>Sample_PC8</th><th scope=col>Sample_PC9</th></tr></thead>\n",
       "<tbody>\n",
       "\t<tr><th scope=row>ENST00000623130.1</th><td>-0.25437183 </td><td>-0.5412317  </td><td>-0.6730526  </td><td> 0.1096376  </td><td>-0.4023437  </td><td> 0.5894097  </td><td>-0.2373860  </td><td>-0.6239242  </td><td> 0.460715811</td><td> 0.62639658 </td><td>⋯           </td><td> 0.4080347  </td><td>-0.8175664  </td><td>-0.7917361  </td><td>-0.7174055  </td><td>-0.602150562</td><td> 0.0820729  </td><td>-0.7071662  </td><td>-0.1797473  </td><td>-0.7623970  </td><td>-0.5348097  </td></tr>\n",
       "\t<tr><th scope=row>ENST00000536684.2</th><td> 1.63143019 </td><td>-0.4132286  </td><td>-0.3904532  </td><td>-0.6154487  </td><td>-0.1562395  </td><td> 0.4924056  </td><td> 1.1948806  </td><td>-0.2902469  </td><td> 0.671385455</td><td>-0.16277039 </td><td>⋯           </td><td>-0.4649004  </td><td>-0.4919632  </td><td> 0.2872928  </td><td>-1.3812287  </td><td>-0.007101846</td><td>-0.2203508  </td><td>-0.5149597  </td><td>-0.3255291  </td><td>-0.6273266  </td><td>-0.1026146  </td></tr>\n",
       "\t<tr><th scope=row>ENST00000385273.1</th><td>-0.59888914 </td><td> 2.3757606  </td><td> 0.8448008  </td><td>-1.6123042  </td><td> 2.2251468  </td><td>-0.1032605  </td><td> 0.6326207  </td><td>-0.0544926  </td><td>-0.595860479</td><td>-1.09846366 </td><td>⋯           </td><td>-0.6295803  </td><td>-0.5116102  </td><td>-0.3356365  </td><td>-0.2991416  </td><td>-2.075233312</td><td>-1.3863784  </td><td>-0.7845599  </td><td>-1.5760779  </td><td>-0.6644270  </td><td>-0.4391978  </td></tr>\n",
       "\t<tr><th scope=row>piR.hsa.23317</th><td>-1.00630728 </td><td>-1.0206760  </td><td> 1.7497563  </td><td>-0.9193767  </td><td>-1.2111638  </td><td> 0.8182527  </td><td> 0.7116876  </td><td> 0.2869640  </td><td> 0.290563224</td><td> 0.60067513 </td><td>⋯           </td><td> 0.3218334  </td><td> 1.0639758  </td><td> 1.1137536  </td><td>-1.0623250  </td><td> 0.373424938</td><td> 0.9370024  </td><td>-1.0238916  </td><td> 0.9501352  </td><td> 1.3257811  </td><td> 1.2651284  </td></tr>\n",
       "\t<tr><th scope=row>ENST00000384886.3</th><td>-0.01324951 </td><td>-0.7426774  </td><td>-0.2033990  </td><td>-0.3575773  </td><td>-0.3844916  </td><td> 0.6499559  </td><td>-0.5071530  </td><td> 3.5966274  </td><td>-0.008186386</td><td> 0.09726114 </td><td>⋯           </td><td>-0.7611507  </td><td>-0.1536373  </td><td>-0.8158609  </td><td>-0.6752065  </td><td>-0.713790068</td><td>-0.4534755  </td><td>-0.6930116  </td><td>-0.4963617  </td><td>-0.4116602  </td><td>-0.3643168  </td></tr>\n",
       "\t<tr><th scope=row>ENST00000365699.4</th><td> 0.75950594 </td><td>-0.4636609  </td><td>-0.2928852  </td><td>-0.7770786  </td><td>-0.1614962  </td><td> 6.7455455  </td><td> 0.2878859  </td><td> 0.1929943  </td><td>-0.074111829</td><td> 0.81003632 </td><td>⋯           </td><td>-0.2313677  </td><td>-0.2211304  </td><td>-1.2377851  </td><td>-1.7521588  </td><td>-1.250012037</td><td>-1.5057269  </td><td>-0.5760739  </td><td>-1.0425246  </td><td>-1.1212030  </td><td>-0.1755673  </td></tr>\n",
       "</tbody>\n",
       "</table>\n"
      ],
      "text/latex": [
       "\\begin{tabular}{r|lllllllllllllllllllllllllllllllllllllllllllllllllllllllllllllllllllllllllllllllllllllllllllllllllllllllllllllllllllllllllllllllllllllllllllllllllllllllllllllllllllllllllllllllllllllllllllllll}\n",
       "  & Sample\\_1S1 & Sample\\_1S10 & Sample\\_1S11 & Sample\\_1S12 & Sample\\_1S13 & Sample\\_1S14 & Sample\\_1S15 & Sample\\_1S16 & Sample\\_1S17 & Sample\\_1S18 & ⋯ & Sample\\_PC33 & Sample\\_PC34 & Sample\\_PC35 & Sample\\_PC36 & Sample\\_PC4 & Sample\\_PC5 & Sample\\_PC6 & Sample\\_PC7 & Sample\\_PC8 & Sample\\_PC9\\\\\n",
       "\\hline\n",
       "\tENST00000623130.1 & -0.25437183  & -0.5412317   & -0.6730526   &  0.1096376   & -0.4023437   &  0.5894097   & -0.2373860   & -0.6239242   &  0.460715811 &  0.62639658  & ⋯            &  0.4080347   & -0.8175664   & -0.7917361   & -0.7174055   & -0.602150562 &  0.0820729   & -0.7071662   & -0.1797473   & -0.7623970   & -0.5348097  \\\\\n",
       "\tENST00000536684.2 &  1.63143019  & -0.4132286   & -0.3904532   & -0.6154487   & -0.1562395   &  0.4924056   &  1.1948806   & -0.2902469   &  0.671385455 & -0.16277039  & ⋯            & -0.4649004   & -0.4919632   &  0.2872928   & -1.3812287   & -0.007101846 & -0.2203508   & -0.5149597   & -0.3255291   & -0.6273266   & -0.1026146  \\\\\n",
       "\tENST00000385273.1 & -0.59888914  &  2.3757606   &  0.8448008   & -1.6123042   &  2.2251468   & -0.1032605   &  0.6326207   & -0.0544926   & -0.595860479 & -1.09846366  & ⋯            & -0.6295803   & -0.5116102   & -0.3356365   & -0.2991416   & -2.075233312 & -1.3863784   & -0.7845599   & -1.5760779   & -0.6644270   & -0.4391978  \\\\\n",
       "\tpiR.hsa.23317 & -1.00630728  & -1.0206760   &  1.7497563   & -0.9193767   & -1.2111638   &  0.8182527   &  0.7116876   &  0.2869640   &  0.290563224 &  0.60067513  & ⋯            &  0.3218334   &  1.0639758   &  1.1137536   & -1.0623250   &  0.373424938 &  0.9370024   & -1.0238916   &  0.9501352   &  1.3257811   &  1.2651284  \\\\\n",
       "\tENST00000384886.3 & -0.01324951  & -0.7426774   & -0.2033990   & -0.3575773   & -0.3844916   &  0.6499559   & -0.5071530   &  3.5966274   & -0.008186386 &  0.09726114  & ⋯            & -0.7611507   & -0.1536373   & -0.8158609   & -0.6752065   & -0.713790068 & -0.4534755   & -0.6930116   & -0.4963617   & -0.4116602   & -0.3643168  \\\\\n",
       "\tENST00000365699.4 &  0.75950594  & -0.4636609   & -0.2928852   & -0.7770786   & -0.1614962   &  6.7455455   &  0.2878859   &  0.1929943   & -0.074111829 &  0.81003632  & ⋯            & -0.2313677   & -0.2211304   & -1.2377851   & -1.7521588   & -1.250012037 & -1.5057269   & -0.5760739   & -1.0425246   & -1.1212030   & -0.1755673  \\\\\n",
       "\\end{tabular}\n"
      ],
      "text/markdown": [
       "\n",
       "| <!--/--> | Sample_1S1 | Sample_1S10 | Sample_1S11 | Sample_1S12 | Sample_1S13 | Sample_1S14 | Sample_1S15 | Sample_1S16 | Sample_1S17 | Sample_1S18 | ⋯ | Sample_PC33 | Sample_PC34 | Sample_PC35 | Sample_PC36 | Sample_PC4 | Sample_PC5 | Sample_PC6 | Sample_PC7 | Sample_PC8 | Sample_PC9 | \n",
       "|---|---|---|---|---|---|\n",
       "| ENST00000623130.1 | -0.25437183  | -0.5412317   | -0.6730526   |  0.1096376   | -0.4023437   |  0.5894097   | -0.2373860   | -0.6239242   |  0.460715811 |  0.62639658  | ⋯            |  0.4080347   | -0.8175664   | -0.7917361   | -0.7174055   | -0.602150562 |  0.0820729   | -0.7071662   | -0.1797473   | -0.7623970   | -0.5348097   | \n",
       "| ENST00000536684.2 |  1.63143019  | -0.4132286   | -0.3904532   | -0.6154487   | -0.1562395   |  0.4924056   |  1.1948806   | -0.2902469   |  0.671385455 | -0.16277039  | ⋯            | -0.4649004   | -0.4919632   |  0.2872928   | -1.3812287   | -0.007101846 | -0.2203508   | -0.5149597   | -0.3255291   | -0.6273266   | -0.1026146   | \n",
       "| ENST00000385273.1 | -0.59888914  |  2.3757606   |  0.8448008   | -1.6123042   |  2.2251468   | -0.1032605   |  0.6326207   | -0.0544926   | -0.595860479 | -1.09846366  | ⋯            | -0.6295803   | -0.5116102   | -0.3356365   | -0.2991416   | -2.075233312 | -1.3863784   | -0.7845599   | -1.5760779   | -0.6644270   | -0.4391978   | \n",
       "| piR.hsa.23317 | -1.00630728  | -1.0206760   |  1.7497563   | -0.9193767   | -1.2111638   |  0.8182527   |  0.7116876   |  0.2869640   |  0.290563224 |  0.60067513  | ⋯            |  0.3218334   |  1.0639758   |  1.1137536   | -1.0623250   |  0.373424938 |  0.9370024   | -1.0238916   |  0.9501352   |  1.3257811   |  1.2651284   | \n",
       "| ENST00000384886.3 | -0.01324951  | -0.7426774   | -0.2033990   | -0.3575773   | -0.3844916   |  0.6499559   | -0.5071530   |  3.5966274   | -0.008186386 |  0.09726114  | ⋯            | -0.7611507   | -0.1536373   | -0.8158609   | -0.6752065   | -0.713790068 | -0.4534755   | -0.6930116   | -0.4963617   | -0.4116602   | -0.3643168   | \n",
       "| ENST00000365699.4 |  0.75950594  | -0.4636609   | -0.2928852   | -0.7770786   | -0.1614962   |  6.7455455   |  0.2878859   |  0.1929943   | -0.074111829 |  0.81003632  | ⋯            | -0.2313677   | -0.2211304   | -1.2377851   | -1.7521588   | -1.250012037 | -1.5057269   | -0.5760739   | -1.0425246   | -1.1212030   | -0.1755673   | \n",
       "\n",
       "\n"
      ],
      "text/plain": [
       "                  Sample_1S1  Sample_1S10 Sample_1S11 Sample_1S12 Sample_1S13\n",
       "ENST00000623130.1 -0.25437183 -0.5412317  -0.6730526   0.1096376  -0.4023437 \n",
       "ENST00000536684.2  1.63143019 -0.4132286  -0.3904532  -0.6154487  -0.1562395 \n",
       "ENST00000385273.1 -0.59888914  2.3757606   0.8448008  -1.6123042   2.2251468 \n",
       "piR.hsa.23317     -1.00630728 -1.0206760   1.7497563  -0.9193767  -1.2111638 \n",
       "ENST00000384886.3 -0.01324951 -0.7426774  -0.2033990  -0.3575773  -0.3844916 \n",
       "ENST00000365699.4  0.75950594 -0.4636609  -0.2928852  -0.7770786  -0.1614962 \n",
       "                  Sample_1S14 Sample_1S15 Sample_1S16 Sample_1S17  Sample_1S18\n",
       "ENST00000623130.1  0.5894097  -0.2373860  -0.6239242   0.460715811  0.62639658\n",
       "ENST00000536684.2  0.4924056   1.1948806  -0.2902469   0.671385455 -0.16277039\n",
       "ENST00000385273.1 -0.1032605   0.6326207  -0.0544926  -0.595860479 -1.09846366\n",
       "piR.hsa.23317      0.8182527   0.7116876   0.2869640   0.290563224  0.60067513\n",
       "ENST00000384886.3  0.6499559  -0.5071530   3.5966274  -0.008186386  0.09726114\n",
       "ENST00000365699.4  6.7455455   0.2878859   0.1929943  -0.074111829  0.81003632\n",
       "                  ⋯ Sample_PC33 Sample_PC34 Sample_PC35 Sample_PC36\n",
       "ENST00000623130.1 ⋯  0.4080347  -0.8175664  -0.7917361  -0.7174055 \n",
       "ENST00000536684.2 ⋯ -0.4649004  -0.4919632   0.2872928  -1.3812287 \n",
       "ENST00000385273.1 ⋯ -0.6295803  -0.5116102  -0.3356365  -0.2991416 \n",
       "piR.hsa.23317     ⋯  0.3218334   1.0639758   1.1137536  -1.0623250 \n",
       "ENST00000384886.3 ⋯ -0.7611507  -0.1536373  -0.8158609  -0.6752065 \n",
       "ENST00000365699.4 ⋯ -0.2313677  -0.2211304  -1.2377851  -1.7521588 \n",
       "                  Sample_PC4   Sample_PC5 Sample_PC6 Sample_PC7 Sample_PC8\n",
       "ENST00000623130.1 -0.602150562  0.0820729 -0.7071662 -0.1797473 -0.7623970\n",
       "ENST00000536684.2 -0.007101846 -0.2203508 -0.5149597 -0.3255291 -0.6273266\n",
       "ENST00000385273.1 -2.075233312 -1.3863784 -0.7845599 -1.5760779 -0.6644270\n",
       "piR.hsa.23317      0.373424938  0.9370024 -1.0238916  0.9501352  1.3257811\n",
       "ENST00000384886.3 -0.713790068 -0.4534755 -0.6930116 -0.4963617 -0.4116602\n",
       "ENST00000365699.4 -1.250012037 -1.5057269 -0.5760739 -1.0425246 -1.1212030\n",
       "                  Sample_PC9\n",
       "ENST00000623130.1 -0.5348097\n",
       "ENST00000536684.2 -0.1026146\n",
       "ENST00000385273.1 -0.4391978\n",
       "piR.hsa.23317      1.2651284\n",
       "ENST00000384886.3 -0.3643168\n",
       "ENST00000365699.4 -0.1755673"
      ]
     },
     "metadata": {},
     "output_type": "display_data"
    }
   ],
   "source": [
    "head(dat)"
   ]
  },
  {
   "cell_type": "code",
   "execution_count": 18,
   "metadata": {},
   "outputs": [
    {
     "name": "stderr",
     "output_type": "stream",
     "text": [
      "Warning message in heatmap.2(dat, cexCol = 0.3, cexRow = 0.8, ColSideColors = c(rep(\"red\", :\n",
      "“Discrepancy: Colv is FALSE, while dendrogram is `both'. Omitting column dendogram.”"
     ]
    },
    {
     "data": {
      "text/html": [
       "<strong>png:</strong> 2"
      ],
      "text/latex": [
       "\\textbf{png:} 2"
      ],
      "text/markdown": [
       "**png:** 2"
      ],
      "text/plain": [
       "png \n",
       "  2 "
      ]
     },
     "metadata": {},
     "output_type": "display_data"
    }
   ],
   "source": [
    "png(\"final_heatmap_40_genes.png\")\n",
    "cr <- colorRampPalette(c(\"blue\",\"white\",\"red\"))\n",
    "heatmap.2(dat, \n",
    "          #scale=\"row\", \n",
    "          cexCol=0.3,cexRow=0.8,\n",
    "          ColSideColors=c(rep(\"red\",99), rep(\"blue\", 50), rep(\"yellow\", 6), rep(\"green\", 36)),\n",
    "          col=cr(1000),\n",
    "          density.info=\"none\",trace=\"none\",\n",
    "          Colv =F,Rowv = T \n",
    ")\n",
    "dev.off()"
   ]
  },
  {
   "cell_type": "code",
   "execution_count": 19,
   "metadata": {},
   "outputs": [
    {
     "data": {
      "text/html": [
       "<strong>png:</strong> 2"
      ],
      "text/latex": [
       "\\textbf{png:} 2"
      ],
      "text/markdown": [
       "**png:** 2"
      ],
      "text/plain": [
       "png \n",
       "  2 "
      ]
     },
     "metadata": {},
     "output_type": "display_data"
    }
   ],
   "source": [
    "png(\"final_heatmap_40_genes(test).png\")\n",
    "cr <- colorRampPalette(c(\"blue\",\"white\",\"red\"))\n",
    "heatmap.2(dat, \n",
    "          #scale=\"row\", \n",
    "          cexCol=0.3,cexRow=0.8,\n",
    "          ColSideColors=c(rep(\"red\",99), rep(\"blue\", 50), rep(\"yellow\", 6), rep(\"green\", 36)),\n",
    "          col=cr(1000),\n",
    "          density.info=\"none\",trace=\"none\",\n",
    "          Colv =T, Rowv = T \n",
    ")\n",
    "dev.off()"
   ]
  },
  {
   "cell_type": "code",
   "execution_count": null,
   "metadata": {},
   "outputs": [],
   "source": []
  }
 ],
 "metadata": {
  "kernelspec": {
   "display_name": "R",
   "language": "R",
   "name": "ir"
  },
  "language_info": {
   "codemirror_mode": "r",
   "file_extension": ".r",
   "mimetype": "text/x-r-source",
   "name": "R",
   "pygments_lexer": "r",
   "version": "3.4.3"
  }
 },
 "nbformat": 4,
 "nbformat_minor": 2
}
