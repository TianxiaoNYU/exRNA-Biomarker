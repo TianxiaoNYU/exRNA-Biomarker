{
 "cells": [
  {
   "cell_type": "code",
   "execution_count": 1,
   "metadata": {
    "scrolled": true
   },
   "outputs": [
    {
     "name": "stderr",
     "output_type": "stream",
     "text": [
      "\n",
      "Attaching package: ‘dplyr’\n",
      "\n",
      "The following objects are masked from ‘package:stats’:\n",
      "\n",
      "    filter, lag\n",
      "\n",
      "The following objects are masked from ‘package:base’:\n",
      "\n",
      "    intersect, setdiff, setequal, union\n",
      "\n",
      "randomForest 4.6-14\n",
      "Type rfNews() to see new features/changes/bug fixes.\n",
      "\n",
      "Attaching package: ‘randomForest’\n",
      "\n",
      "The following object is masked from ‘package:ggplot2’:\n",
      "\n",
      "    margin\n",
      "\n",
      "The following object is masked from ‘package:dplyr’:\n",
      "\n",
      "    combine\n",
      "\n",
      "Loading required package: gplots\n",
      "\n",
      "Attaching package: ‘gplots’\n",
      "\n",
      "The following object is masked from ‘package:stats’:\n",
      "\n",
      "    lowess\n",
      "\n"
     ]
    }
   ],
   "source": [
    "set.seed(1919)\n",
    "library(dplyr)\n",
    "library(ggplot2)\n",
    "library(randomForest)\n",
    "library(ROCR)"
   ]
  },
  {
   "cell_type": "code",
   "execution_count": 3,
   "metadata": {},
   "outputs": [],
   "source": [
    "dat <- read.table(\"RFE_data.txt\", header = T, sep = \"\\t\")\n",
    "dat <- as.data.frame(scale(dat))\n",
    "sample_dat <- read.table(\"ZTX/scirep_classes.txt\", header = T, sep = \",\", stringsAsFactors = F)\n",
    "sample_class <- as.factor(arrange(sample_dat, sample_id)$label)"
   ]
  },
  {
   "cell_type": "code",
   "execution_count": 5,
   "metadata": {},
   "outputs": [
    {
     "name": "stdout",
     "output_type": "stream",
     "text": [
      "[1] 0.4487145\n",
      "[1] 0.462312\n",
      "[1] 0.4469695\n",
      "[1] NaN\n",
      "[1] 0.4519014\n",
      "[1] NaN\n",
      "[1] 0.4451666\n",
      "[1] 0.438807\n"
     ]
    }
   ],
   "source": [
    "## Find Best mtry in RF\n",
    "for(i in 1:8){\n",
    "    rf_classifier = randomForest(x = dat, y = sample_class,  ntree = 400, mtry = i)\n",
    "    print(mean(rf_classifier$err.rate))\n",
    "}"
   ]
  },
  {
   "cell_type": "code",
   "execution_count": 6,
   "metadata": {},
   "outputs": [
    {
     "ename": "ERROR",
     "evalue": "Error in randomForest(x = RF_train_sample, y = RF_train_sample_class, : object 'RF_train_sample' not found\n",
     "output_type": "error",
     "traceback": [
      "Error in randomForest(x = RF_train_sample, y = RF_train_sample_class, : object 'RF_train_sample' not found\nTraceback:\n",
      "1. randomForest(x = RF_train_sample, y = RF_train_sample_class, \n .     ntree = 400, mtry = 3)"
     ]
    }
   ],
   "source": [
    "## RF\n",
    "rf_classifier = randomForest(x = RF_train_sample, y = RF_train_sample_class,  ntree = 400, mtry = 3)\n",
    "rf_classifier\n",
    "pre_prob <- predict(rf_classifier, dat, type = \"prob\")"
   ]
  },
  {
   "cell_type": "code",
   "execution_count": 26,
   "metadata": {
    "collapsed": true
   },
   "outputs": [
    {
     "data": {
      "text/html": [
       "<table>\n",
       "<thead><tr><th></th><th scope=col>Colorectal Cancer</th><th scope=col>Healthy Control</th><th scope=col>Pancreatic Cancer</th><th scope=col>Prostate Cancer</th></tr></thead>\n",
       "<tbody>\n",
       "\t<tr><th scope=row>Sample_1S1</th><td>0.9700</td><td>0.0250</td><td>0.0050</td><td>0.0000</td></tr>\n",
       "\t<tr><th scope=row>Sample_1S10</th><td>0.4050</td><td>0.1450</td><td>0.0125</td><td>0.4375</td></tr>\n",
       "\t<tr><th scope=row>Sample_1S11</th><td>0.6650</td><td>0.3200</td><td>0.0075</td><td>0.0075</td></tr>\n",
       "\t<tr><th scope=row>Sample_1S12</th><td>0.8000</td><td>0.0575</td><td>0.0225</td><td>0.1200</td></tr>\n",
       "\t<tr><th scope=row>Sample_1S13</th><td>0.5625</td><td>0.3350</td><td>0.0725</td><td>0.0300</td></tr>\n",
       "\t<tr><th scope=row>Sample_1S14</th><td>0.9250</td><td>0.0625</td><td>0.0100</td><td>0.0025</td></tr>\n",
       "\t<tr><th scope=row>Sample_1S15</th><td>0.7350</td><td>0.2575</td><td>0.0000</td><td>0.0075</td></tr>\n",
       "\t<tr><th scope=row>Sample_1S16</th><td>0.9000</td><td>0.0475</td><td>0.0375</td><td>0.0150</td></tr>\n",
       "\t<tr><th scope=row>Sample_1S17</th><td>0.6025</td><td>0.3075</td><td>0.0825</td><td>0.0075</td></tr>\n",
       "\t<tr><th scope=row>Sample_1S18</th><td>0.9525</td><td>0.0375</td><td>0.0025</td><td>0.0075</td></tr>\n",
       "\t<tr><th scope=row>Sample_1S19</th><td>0.7150</td><td>0.2750</td><td>0.0025</td><td>0.0075</td></tr>\n",
       "\t<tr><th scope=row>Sample_1S2</th><td>0.7850</td><td>0.2075</td><td>0.0075</td><td>0.0000</td></tr>\n",
       "\t<tr><th scope=row>Sample_1S20</th><td>0.5000</td><td>0.3200</td><td>0.0175</td><td>0.1625</td></tr>\n",
       "\t<tr><th scope=row>Sample_1S21</th><td>0.8450</td><td>0.1125</td><td>0.0375</td><td>0.0050</td></tr>\n",
       "\t<tr><th scope=row>Sample_1S22</th><td>0.3850</td><td>0.6025</td><td>0.0125</td><td>0.0000</td></tr>\n",
       "\t<tr><th scope=row>Sample_1S23</th><td>0.7625</td><td>0.1800</td><td>0.0125</td><td>0.0450</td></tr>\n",
       "\t<tr><th scope=row>Sample_1S24</th><td>0.8025</td><td>0.0600</td><td>0.0150</td><td>0.1225</td></tr>\n",
       "\t<tr><th scope=row>Sample_1S25</th><td>0.7025</td><td>0.2825</td><td>0.0150</td><td>0.0000</td></tr>\n",
       "\t<tr><th scope=row>Sample_1S3</th><td>0.8200</td><td>0.0875</td><td>0.0150</td><td>0.0775</td></tr>\n",
       "\t<tr><th scope=row>Sample_1S4</th><td>0.8550</td><td>0.1300</td><td>0.0100</td><td>0.0050</td></tr>\n",
       "\t<tr><th scope=row>Sample_1S5</th><td>0.6500</td><td>0.0150</td><td>0.0075</td><td>0.3275</td></tr>\n",
       "\t<tr><th scope=row>Sample_1S6</th><td>0.6850</td><td>0.2850</td><td>0.0125</td><td>0.0175</td></tr>\n",
       "\t<tr><th scope=row>Sample_1S7</th><td>0.8400</td><td>0.0725</td><td>0.0275</td><td>0.0600</td></tr>\n",
       "\t<tr><th scope=row>Sample_1S8</th><td>0.8450</td><td>0.1025</td><td>0.0275</td><td>0.0250</td></tr>\n",
       "\t<tr><th scope=row>Sample_1S9</th><td>0.9400</td><td>0.0125</td><td>0.0075</td><td>0.0400</td></tr>\n",
       "\t<tr><th scope=row>Sample_2S1</th><td>0.9625</td><td>0.0250</td><td>0.0125</td><td>0.0000</td></tr>\n",
       "\t<tr><th scope=row>Sample_2S10</th><td>0.9650</td><td>0.0075</td><td>0.0225</td><td>0.0050</td></tr>\n",
       "\t<tr><th scope=row>Sample_2S11</th><td>0.6750</td><td>0.3075</td><td>0.0075</td><td>0.0100</td></tr>\n",
       "\t<tr><th scope=row>Sample_2S12</th><td>0.7750</td><td>0.0700</td><td>0.0025</td><td>0.1525</td></tr>\n",
       "\t<tr><th scope=row>Sample_2S13</th><td>0.8050</td><td>0.1775</td><td>0.0125</td><td>0.0050</td></tr>\n",
       "\t<tr><th scope=row>⋮</th><td>⋮</td><td>⋮</td><td>⋮</td><td>⋮</td></tr>\n",
       "\t<tr><th scope=row>Sample_PC15</th><td>0.0275</td><td>0.0225</td><td>0.0125</td><td>0.9375</td></tr>\n",
       "\t<tr><th scope=row>Sample_PC16</th><td>0.0825</td><td>0.0825</td><td>0.0200</td><td>0.8150</td></tr>\n",
       "\t<tr><th scope=row>Sample_PC17</th><td>0.3475</td><td>0.1750</td><td>0.0275</td><td>0.4500</td></tr>\n",
       "\t<tr><th scope=row>Sample_PC18</th><td>0.0400</td><td>0.0125</td><td>0.0075</td><td>0.9400</td></tr>\n",
       "\t<tr><th scope=row>Sample_PC19</th><td>0.1075</td><td>0.0400</td><td>0.0275</td><td>0.8250</td></tr>\n",
       "\t<tr><th scope=row>Sample_PC2</th><td>0.0625</td><td>0.0225</td><td>0.0075</td><td>0.9075</td></tr>\n",
       "\t<tr><th scope=row>Sample_PC20</th><td>0.2475</td><td>0.0125</td><td>0.0050</td><td>0.7350</td></tr>\n",
       "\t<tr><th scope=row>Sample_PC21</th><td>0.1750</td><td>0.0150</td><td>0.0075</td><td>0.8025</td></tr>\n",
       "\t<tr><th scope=row>Sample_PC22</th><td>0.3325</td><td>0.0900</td><td>0.0450</td><td>0.5325</td></tr>\n",
       "\t<tr><th scope=row>Sample_PC23</th><td>0.0375</td><td>0.0100</td><td>0.0000</td><td>0.9525</td></tr>\n",
       "\t<tr><th scope=row>Sample_PC24</th><td>0.1600</td><td>0.0850</td><td>0.0100</td><td>0.7450</td></tr>\n",
       "\t<tr><th scope=row>Sample_PC25</th><td>0.0825</td><td>0.0100</td><td>0.0075</td><td>0.9000</td></tr>\n",
       "\t<tr><th scope=row>Sample_PC26</th><td>0.0550</td><td>0.0175</td><td>0.0100</td><td>0.9175</td></tr>\n",
       "\t<tr><th scope=row>Sample_PC27</th><td>0.0650</td><td>0.0150</td><td>0.0125</td><td>0.9075</td></tr>\n",
       "\t<tr><th scope=row>Sample_PC28</th><td>0.2150</td><td>0.0325</td><td>0.0250</td><td>0.7275</td></tr>\n",
       "\t<tr><th scope=row>Sample_PC29</th><td>0.0250</td><td>0.0175</td><td>0.0225</td><td>0.9350</td></tr>\n",
       "\t<tr><th scope=row>Sample_PC3</th><td>0.1025</td><td>0.0350</td><td>0.0025</td><td>0.8600</td></tr>\n",
       "\t<tr><th scope=row>Sample_PC30</th><td>0.0825</td><td>0.0850</td><td>0.0400</td><td>0.7925</td></tr>\n",
       "\t<tr><th scope=row>Sample_PC31</th><td>0.0425</td><td>0.0025</td><td>0.0025</td><td>0.9525</td></tr>\n",
       "\t<tr><th scope=row>Sample_PC32</th><td>0.0125</td><td>0.0000</td><td>0.0075</td><td>0.9800</td></tr>\n",
       "\t<tr><th scope=row>Sample_PC33</th><td>0.1475</td><td>0.0400</td><td>0.0150</td><td>0.7975</td></tr>\n",
       "\t<tr><th scope=row>Sample_PC34</th><td>0.0750</td><td>0.0100</td><td>0.0050</td><td>0.9100</td></tr>\n",
       "\t<tr><th scope=row>Sample_PC35</th><td>0.1025</td><td>0.0325</td><td>0.0075</td><td>0.8575</td></tr>\n",
       "\t<tr><th scope=row>Sample_PC36</th><td>0.1600</td><td>0.0400</td><td>0.0550</td><td>0.7450</td></tr>\n",
       "\t<tr><th scope=row>Sample_PC4</th><td>0.1875</td><td>0.0125</td><td>0.0025</td><td>0.7975</td></tr>\n",
       "\t<tr><th scope=row>Sample_PC5</th><td>0.2550</td><td>0.0475</td><td>0.0050</td><td>0.6925</td></tr>\n",
       "\t<tr><th scope=row>Sample_PC6</th><td>0.1800</td><td>0.0300</td><td>0.0275</td><td>0.7625</td></tr>\n",
       "\t<tr><th scope=row>Sample_PC7</th><td>0.1875</td><td>0.0375</td><td>0.0200</td><td>0.7550</td></tr>\n",
       "\t<tr><th scope=row>Sample_PC8</th><td>0.0575</td><td>0.0100</td><td>0.0125</td><td>0.9200</td></tr>\n",
       "\t<tr><th scope=row>Sample_PC9</th><td>0.1425</td><td>0.0250</td><td>0.0075</td><td>0.8250</td></tr>\n",
       "</tbody>\n",
       "</table>\n"
      ],
      "text/latex": [
       "\\begin{tabular}{r|llll}\n",
       "  & Colorectal Cancer & Healthy Control & Pancreatic Cancer & Prostate Cancer\\\\\n",
       "\\hline\n",
       "\tSample\\_1S1 & 0.9700 & 0.0250 & 0.0050 & 0.0000\\\\\n",
       "\tSample\\_1S10 & 0.4050 & 0.1450 & 0.0125 & 0.4375\\\\\n",
       "\tSample\\_1S11 & 0.6650 & 0.3200 & 0.0075 & 0.0075\\\\\n",
       "\tSample\\_1S12 & 0.8000 & 0.0575 & 0.0225 & 0.1200\\\\\n",
       "\tSample\\_1S13 & 0.5625 & 0.3350 & 0.0725 & 0.0300\\\\\n",
       "\tSample\\_1S14 & 0.9250 & 0.0625 & 0.0100 & 0.0025\\\\\n",
       "\tSample\\_1S15 & 0.7350 & 0.2575 & 0.0000 & 0.0075\\\\\n",
       "\tSample\\_1S16 & 0.9000 & 0.0475 & 0.0375 & 0.0150\\\\\n",
       "\tSample\\_1S17 & 0.6025 & 0.3075 & 0.0825 & 0.0075\\\\\n",
       "\tSample\\_1S18 & 0.9525 & 0.0375 & 0.0025 & 0.0075\\\\\n",
       "\tSample\\_1S19 & 0.7150 & 0.2750 & 0.0025 & 0.0075\\\\\n",
       "\tSample\\_1S2 & 0.7850 & 0.2075 & 0.0075 & 0.0000\\\\\n",
       "\tSample\\_1S20 & 0.5000 & 0.3200 & 0.0175 & 0.1625\\\\\n",
       "\tSample\\_1S21 & 0.8450 & 0.1125 & 0.0375 & 0.0050\\\\\n",
       "\tSample\\_1S22 & 0.3850 & 0.6025 & 0.0125 & 0.0000\\\\\n",
       "\tSample\\_1S23 & 0.7625 & 0.1800 & 0.0125 & 0.0450\\\\\n",
       "\tSample\\_1S24 & 0.8025 & 0.0600 & 0.0150 & 0.1225\\\\\n",
       "\tSample\\_1S25 & 0.7025 & 0.2825 & 0.0150 & 0.0000\\\\\n",
       "\tSample\\_1S3 & 0.8200 & 0.0875 & 0.0150 & 0.0775\\\\\n",
       "\tSample\\_1S4 & 0.8550 & 0.1300 & 0.0100 & 0.0050\\\\\n",
       "\tSample\\_1S5 & 0.6500 & 0.0150 & 0.0075 & 0.3275\\\\\n",
       "\tSample\\_1S6 & 0.6850 & 0.2850 & 0.0125 & 0.0175\\\\\n",
       "\tSample\\_1S7 & 0.8400 & 0.0725 & 0.0275 & 0.0600\\\\\n",
       "\tSample\\_1S8 & 0.8450 & 0.1025 & 0.0275 & 0.0250\\\\\n",
       "\tSample\\_1S9 & 0.9400 & 0.0125 & 0.0075 & 0.0400\\\\\n",
       "\tSample\\_2S1 & 0.9625 & 0.0250 & 0.0125 & 0.0000\\\\\n",
       "\tSample\\_2S10 & 0.9650 & 0.0075 & 0.0225 & 0.0050\\\\\n",
       "\tSample\\_2S11 & 0.6750 & 0.3075 & 0.0075 & 0.0100\\\\\n",
       "\tSample\\_2S12 & 0.7750 & 0.0700 & 0.0025 & 0.1525\\\\\n",
       "\tSample\\_2S13 & 0.8050 & 0.1775 & 0.0125 & 0.0050\\\\\n",
       "\t⋮ & ⋮ & ⋮ & ⋮ & ⋮\\\\\n",
       "\tSample\\_PC15 & 0.0275 & 0.0225 & 0.0125 & 0.9375\\\\\n",
       "\tSample\\_PC16 & 0.0825 & 0.0825 & 0.0200 & 0.8150\\\\\n",
       "\tSample\\_PC17 & 0.3475 & 0.1750 & 0.0275 & 0.4500\\\\\n",
       "\tSample\\_PC18 & 0.0400 & 0.0125 & 0.0075 & 0.9400\\\\\n",
       "\tSample\\_PC19 & 0.1075 & 0.0400 & 0.0275 & 0.8250\\\\\n",
       "\tSample\\_PC2 & 0.0625 & 0.0225 & 0.0075 & 0.9075\\\\\n",
       "\tSample\\_PC20 & 0.2475 & 0.0125 & 0.0050 & 0.7350\\\\\n",
       "\tSample\\_PC21 & 0.1750 & 0.0150 & 0.0075 & 0.8025\\\\\n",
       "\tSample\\_PC22 & 0.3325 & 0.0900 & 0.0450 & 0.5325\\\\\n",
       "\tSample\\_PC23 & 0.0375 & 0.0100 & 0.0000 & 0.9525\\\\\n",
       "\tSample\\_PC24 & 0.1600 & 0.0850 & 0.0100 & 0.7450\\\\\n",
       "\tSample\\_PC25 & 0.0825 & 0.0100 & 0.0075 & 0.9000\\\\\n",
       "\tSample\\_PC26 & 0.0550 & 0.0175 & 0.0100 & 0.9175\\\\\n",
       "\tSample\\_PC27 & 0.0650 & 0.0150 & 0.0125 & 0.9075\\\\\n",
       "\tSample\\_PC28 & 0.2150 & 0.0325 & 0.0250 & 0.7275\\\\\n",
       "\tSample\\_PC29 & 0.0250 & 0.0175 & 0.0225 & 0.9350\\\\\n",
       "\tSample\\_PC3 & 0.1025 & 0.0350 & 0.0025 & 0.8600\\\\\n",
       "\tSample\\_PC30 & 0.0825 & 0.0850 & 0.0400 & 0.7925\\\\\n",
       "\tSample\\_PC31 & 0.0425 & 0.0025 & 0.0025 & 0.9525\\\\\n",
       "\tSample\\_PC32 & 0.0125 & 0.0000 & 0.0075 & 0.9800\\\\\n",
       "\tSample\\_PC33 & 0.1475 & 0.0400 & 0.0150 & 0.7975\\\\\n",
       "\tSample\\_PC34 & 0.0750 & 0.0100 & 0.0050 & 0.9100\\\\\n",
       "\tSample\\_PC35 & 0.1025 & 0.0325 & 0.0075 & 0.8575\\\\\n",
       "\tSample\\_PC36 & 0.1600 & 0.0400 & 0.0550 & 0.7450\\\\\n",
       "\tSample\\_PC4 & 0.1875 & 0.0125 & 0.0025 & 0.7975\\\\\n",
       "\tSample\\_PC5 & 0.2550 & 0.0475 & 0.0050 & 0.6925\\\\\n",
       "\tSample\\_PC6 & 0.1800 & 0.0300 & 0.0275 & 0.7625\\\\\n",
       "\tSample\\_PC7 & 0.1875 & 0.0375 & 0.0200 & 0.7550\\\\\n",
       "\tSample\\_PC8 & 0.0575 & 0.0100 & 0.0125 & 0.9200\\\\\n",
       "\tSample\\_PC9 & 0.1425 & 0.0250 & 0.0075 & 0.8250\\\\\n",
       "\\end{tabular}\n"
      ],
      "text/markdown": [
       "\n",
       "| <!--/--> | Colorectal Cancer | Healthy Control | Pancreatic Cancer | Prostate Cancer | \n",
       "|---|---|---|---|---|---|---|---|---|---|---|---|---|---|---|---|---|---|---|---|---|---|---|---|---|---|---|---|---|---|---|---|---|---|---|---|---|---|---|---|---|---|---|---|---|---|---|---|---|---|---|---|---|---|---|---|---|---|---|---|---|\n",
       "| Sample_1S1 | 0.9700 | 0.0250 | 0.0050 | 0.0000 | \n",
       "| Sample_1S10 | 0.4050 | 0.1450 | 0.0125 | 0.4375 | \n",
       "| Sample_1S11 | 0.6650 | 0.3200 | 0.0075 | 0.0075 | \n",
       "| Sample_1S12 | 0.8000 | 0.0575 | 0.0225 | 0.1200 | \n",
       "| Sample_1S13 | 0.5625 | 0.3350 | 0.0725 | 0.0300 | \n",
       "| Sample_1S14 | 0.9250 | 0.0625 | 0.0100 | 0.0025 | \n",
       "| Sample_1S15 | 0.7350 | 0.2575 | 0.0000 | 0.0075 | \n",
       "| Sample_1S16 | 0.9000 | 0.0475 | 0.0375 | 0.0150 | \n",
       "| Sample_1S17 | 0.6025 | 0.3075 | 0.0825 | 0.0075 | \n",
       "| Sample_1S18 | 0.9525 | 0.0375 | 0.0025 | 0.0075 | \n",
       "| Sample_1S19 | 0.7150 | 0.2750 | 0.0025 | 0.0075 | \n",
       "| Sample_1S2 | 0.7850 | 0.2075 | 0.0075 | 0.0000 | \n",
       "| Sample_1S20 | 0.5000 | 0.3200 | 0.0175 | 0.1625 | \n",
       "| Sample_1S21 | 0.8450 | 0.1125 | 0.0375 | 0.0050 | \n",
       "| Sample_1S22 | 0.3850 | 0.6025 | 0.0125 | 0.0000 | \n",
       "| Sample_1S23 | 0.7625 | 0.1800 | 0.0125 | 0.0450 | \n",
       "| Sample_1S24 | 0.8025 | 0.0600 | 0.0150 | 0.1225 | \n",
       "| Sample_1S25 | 0.7025 | 0.2825 | 0.0150 | 0.0000 | \n",
       "| Sample_1S3 | 0.8200 | 0.0875 | 0.0150 | 0.0775 | \n",
       "| Sample_1S4 | 0.8550 | 0.1300 | 0.0100 | 0.0050 | \n",
       "| Sample_1S5 | 0.6500 | 0.0150 | 0.0075 | 0.3275 | \n",
       "| Sample_1S6 | 0.6850 | 0.2850 | 0.0125 | 0.0175 | \n",
       "| Sample_1S7 | 0.8400 | 0.0725 | 0.0275 | 0.0600 | \n",
       "| Sample_1S8 | 0.8450 | 0.1025 | 0.0275 | 0.0250 | \n",
       "| Sample_1S9 | 0.9400 | 0.0125 | 0.0075 | 0.0400 | \n",
       "| Sample_2S1 | 0.9625 | 0.0250 | 0.0125 | 0.0000 | \n",
       "| Sample_2S10 | 0.9650 | 0.0075 | 0.0225 | 0.0050 | \n",
       "| Sample_2S11 | 0.6750 | 0.3075 | 0.0075 | 0.0100 | \n",
       "| Sample_2S12 | 0.7750 | 0.0700 | 0.0025 | 0.1525 | \n",
       "| Sample_2S13 | 0.8050 | 0.1775 | 0.0125 | 0.0050 | \n",
       "| ⋮ | ⋮ | ⋮ | ⋮ | ⋮ | \n",
       "| Sample_PC15 | 0.0275 | 0.0225 | 0.0125 | 0.9375 | \n",
       "| Sample_PC16 | 0.0825 | 0.0825 | 0.0200 | 0.8150 | \n",
       "| Sample_PC17 | 0.3475 | 0.1750 | 0.0275 | 0.4500 | \n",
       "| Sample_PC18 | 0.0400 | 0.0125 | 0.0075 | 0.9400 | \n",
       "| Sample_PC19 | 0.1075 | 0.0400 | 0.0275 | 0.8250 | \n",
       "| Sample_PC2 | 0.0625 | 0.0225 | 0.0075 | 0.9075 | \n",
       "| Sample_PC20 | 0.2475 | 0.0125 | 0.0050 | 0.7350 | \n",
       "| Sample_PC21 | 0.1750 | 0.0150 | 0.0075 | 0.8025 | \n",
       "| Sample_PC22 | 0.3325 | 0.0900 | 0.0450 | 0.5325 | \n",
       "| Sample_PC23 | 0.0375 | 0.0100 | 0.0000 | 0.9525 | \n",
       "| Sample_PC24 | 0.1600 | 0.0850 | 0.0100 | 0.7450 | \n",
       "| Sample_PC25 | 0.0825 | 0.0100 | 0.0075 | 0.9000 | \n",
       "| Sample_PC26 | 0.0550 | 0.0175 | 0.0100 | 0.9175 | \n",
       "| Sample_PC27 | 0.0650 | 0.0150 | 0.0125 | 0.9075 | \n",
       "| Sample_PC28 | 0.2150 | 0.0325 | 0.0250 | 0.7275 | \n",
       "| Sample_PC29 | 0.0250 | 0.0175 | 0.0225 | 0.9350 | \n",
       "| Sample_PC3 | 0.1025 | 0.0350 | 0.0025 | 0.8600 | \n",
       "| Sample_PC30 | 0.0825 | 0.0850 | 0.0400 | 0.7925 | \n",
       "| Sample_PC31 | 0.0425 | 0.0025 | 0.0025 | 0.9525 | \n",
       "| Sample_PC32 | 0.0125 | 0.0000 | 0.0075 | 0.9800 | \n",
       "| Sample_PC33 | 0.1475 | 0.0400 | 0.0150 | 0.7975 | \n",
       "| Sample_PC34 | 0.0750 | 0.0100 | 0.0050 | 0.9100 | \n",
       "| Sample_PC35 | 0.1025 | 0.0325 | 0.0075 | 0.8575 | \n",
       "| Sample_PC36 | 0.1600 | 0.0400 | 0.0550 | 0.7450 | \n",
       "| Sample_PC4 | 0.1875 | 0.0125 | 0.0025 | 0.7975 | \n",
       "| Sample_PC5 | 0.2550 | 0.0475 | 0.0050 | 0.6925 | \n",
       "| Sample_PC6 | 0.1800 | 0.0300 | 0.0275 | 0.7625 | \n",
       "| Sample_PC7 | 0.1875 | 0.0375 | 0.0200 | 0.7550 | \n",
       "| Sample_PC8 | 0.0575 | 0.0100 | 0.0125 | 0.9200 | \n",
       "| Sample_PC9 | 0.1425 | 0.0250 | 0.0075 | 0.8250 | \n",
       "\n",
       "\n"
      ],
      "text/plain": [
       "            Colorectal Cancer Healthy Control Pancreatic Cancer Prostate Cancer\n",
       "Sample_1S1  0.9700            0.0250          0.0050            0.0000         \n",
       "Sample_1S10 0.4050            0.1450          0.0125            0.4375         \n",
       "Sample_1S11 0.6650            0.3200          0.0075            0.0075         \n",
       "Sample_1S12 0.8000            0.0575          0.0225            0.1200         \n",
       "Sample_1S13 0.5625            0.3350          0.0725            0.0300         \n",
       "Sample_1S14 0.9250            0.0625          0.0100            0.0025         \n",
       "Sample_1S15 0.7350            0.2575          0.0000            0.0075         \n",
       "Sample_1S16 0.9000            0.0475          0.0375            0.0150         \n",
       "Sample_1S17 0.6025            0.3075          0.0825            0.0075         \n",
       "Sample_1S18 0.9525            0.0375          0.0025            0.0075         \n",
       "Sample_1S19 0.7150            0.2750          0.0025            0.0075         \n",
       "Sample_1S2  0.7850            0.2075          0.0075            0.0000         \n",
       "Sample_1S20 0.5000            0.3200          0.0175            0.1625         \n",
       "Sample_1S21 0.8450            0.1125          0.0375            0.0050         \n",
       "Sample_1S22 0.3850            0.6025          0.0125            0.0000         \n",
       "Sample_1S23 0.7625            0.1800          0.0125            0.0450         \n",
       "Sample_1S24 0.8025            0.0600          0.0150            0.1225         \n",
       "Sample_1S25 0.7025            0.2825          0.0150            0.0000         \n",
       "Sample_1S3  0.8200            0.0875          0.0150            0.0775         \n",
       "Sample_1S4  0.8550            0.1300          0.0100            0.0050         \n",
       "Sample_1S5  0.6500            0.0150          0.0075            0.3275         \n",
       "Sample_1S6  0.6850            0.2850          0.0125            0.0175         \n",
       "Sample_1S7  0.8400            0.0725          0.0275            0.0600         \n",
       "Sample_1S8  0.8450            0.1025          0.0275            0.0250         \n",
       "Sample_1S9  0.9400            0.0125          0.0075            0.0400         \n",
       "Sample_2S1  0.9625            0.0250          0.0125            0.0000         \n",
       "Sample_2S10 0.9650            0.0075          0.0225            0.0050         \n",
       "Sample_2S11 0.6750            0.3075          0.0075            0.0100         \n",
       "Sample_2S12 0.7750            0.0700          0.0025            0.1525         \n",
       "Sample_2S13 0.8050            0.1775          0.0125            0.0050         \n",
       "⋮           ⋮                 ⋮               ⋮                 ⋮              \n",
       "Sample_PC15 0.0275            0.0225          0.0125            0.9375         \n",
       "Sample_PC16 0.0825            0.0825          0.0200            0.8150         \n",
       "Sample_PC17 0.3475            0.1750          0.0275            0.4500         \n",
       "Sample_PC18 0.0400            0.0125          0.0075            0.9400         \n",
       "Sample_PC19 0.1075            0.0400          0.0275            0.8250         \n",
       "Sample_PC2  0.0625            0.0225          0.0075            0.9075         \n",
       "Sample_PC20 0.2475            0.0125          0.0050            0.7350         \n",
       "Sample_PC21 0.1750            0.0150          0.0075            0.8025         \n",
       "Sample_PC22 0.3325            0.0900          0.0450            0.5325         \n",
       "Sample_PC23 0.0375            0.0100          0.0000            0.9525         \n",
       "Sample_PC24 0.1600            0.0850          0.0100            0.7450         \n",
       "Sample_PC25 0.0825            0.0100          0.0075            0.9000         \n",
       "Sample_PC26 0.0550            0.0175          0.0100            0.9175         \n",
       "Sample_PC27 0.0650            0.0150          0.0125            0.9075         \n",
       "Sample_PC28 0.2150            0.0325          0.0250            0.7275         \n",
       "Sample_PC29 0.0250            0.0175          0.0225            0.9350         \n",
       "Sample_PC3  0.1025            0.0350          0.0025            0.8600         \n",
       "Sample_PC30 0.0825            0.0850          0.0400            0.7925         \n",
       "Sample_PC31 0.0425            0.0025          0.0025            0.9525         \n",
       "Sample_PC32 0.0125            0.0000          0.0075            0.9800         \n",
       "Sample_PC33 0.1475            0.0400          0.0150            0.7975         \n",
       "Sample_PC34 0.0750            0.0100          0.0050            0.9100         \n",
       "Sample_PC35 0.1025            0.0325          0.0075            0.8575         \n",
       "Sample_PC36 0.1600            0.0400          0.0550            0.7450         \n",
       "Sample_PC4  0.1875            0.0125          0.0025            0.7975         \n",
       "Sample_PC5  0.2550            0.0475          0.0050            0.6925         \n",
       "Sample_PC6  0.1800            0.0300          0.0275            0.7625         \n",
       "Sample_PC7  0.1875            0.0375          0.0200            0.7550         \n",
       "Sample_PC8  0.0575            0.0100          0.0125            0.9200         \n",
       "Sample_PC9  0.1425            0.0250          0.0075            0.8250         "
      ]
     },
     "metadata": {},
     "output_type": "display_data"
    }
   ],
   "source": [
    "pre_prob"
   ]
  },
  {
   "cell_type": "code",
   "execution_count": 30,
   "metadata": {},
   "outputs": [
    {
     "data": {
      "text/html": [
       "<strong>png:</strong> 2"
      ],
      "text/latex": [
       "\\textbf{png:} 2"
      ],
      "text/markdown": [
       "**png:** 2"
      ],
      "text/plain": [
       "png \n",
       "  2 "
      ]
     },
     "metadata": {},
     "output_type": "display_data"
    },
    {
     "name": "stdout",
     "output_type": "stream",
     "text": [
      "auc = 0.9978041 \n"
     ]
    }
   ],
   "source": [
    "## Colorectal Cancer的ROC\n",
    "positive_class <- 'Colorectal Cancer'\n",
    "test_labels <- vector('integer', nrow(pre_prob))\n",
    "test_labels[sample_class != positive_class] <- 0\n",
    "test_labels[sample_class == positive_class] <- 1\n",
    "pred <- prediction(pre_prob[, positive_class], test_labels)\n",
    "roc <- performance(pred, 'tpr', 'fpr') \n",
    "png(\"Col_Can_ROC_RF.png\")\n",
    "plot(roc, main = 'ROC Curve for Colorectal Cancer', sub = 'AUC = 0.998')\n",
    "dev.off()\n",
    "auc <- performance(pred, 'auc')\n",
    "cat('auc =', auc@y.values[[1]], '\\n')"
   ]
  },
  {
   "cell_type": "code",
   "execution_count": 33,
   "metadata": {},
   "outputs": [
    {
     "data": {
      "text/html": [
       "<strong>png:</strong> 2"
      ],
      "text/latex": [
       "\\textbf{png:} 2"
      ],
      "text/markdown": [
       "**png:** 2"
      ],
      "text/plain": [
       "png \n",
       "  2 "
      ]
     },
     "metadata": {},
     "output_type": "display_data"
    },
    {
     "name": "stdout",
     "output_type": "stream",
     "text": [
      "auc = 0.9908511 \n"
     ]
    }
   ],
   "source": [
    "## Healthy Control的ROC\n",
    "positive_class <- 'Healthy Control'\n",
    "test_labels <- vector('integer', nrow(pre_prob))\n",
    "test_labels[sample_class != positive_class] <- 0\n",
    "test_labels[sample_class == positive_class] <- 1\n",
    "pred <- prediction(pre_prob[, positive_class], test_labels)\n",
    "roc <- performance(pred, 'tpr', 'fpr') \n",
    "png(\"Healthy_Control_ROC_RF.png\")\n",
    "plot(roc, main = 'ROC Curve for Healthy Control', sub = 'AUC = 0.991')\n",
    "dev.off()\n",
    "auc <- performance(pred, 'auc')\n",
    "cat('auc =', auc@y.values[[1]], '\\n')"
   ]
  },
  {
   "cell_type": "code",
   "execution_count": 35,
   "metadata": {},
   "outputs": [
    {
     "data": {
      "text/html": [
       "<strong>png:</strong> 2"
      ],
      "text/latex": [
       "\\textbf{png:} 2"
      ],
      "text/markdown": [
       "**png:** 2"
      ],
      "text/plain": [
       "png \n",
       "  2 "
      ]
     },
     "metadata": {},
     "output_type": "display_data"
    },
    {
     "name": "stdout",
     "output_type": "stream",
     "text": [
      "auc = 0.9306306 \n"
     ]
    }
   ],
   "source": [
    "## Pancreatic Cancer的ROC\n",
    "positive_class <- 'Pancreatic Cancer'\n",
    "test_labels <- vector('integer', nrow(pre_prob))\n",
    "test_labels[sample_class != positive_class] <- 0\n",
    "test_labels[sample_class == positive_class] <- 1\n",
    "pred <- prediction(pre_prob[, positive_class], test_labels)\n",
    "roc <- performance(pred, 'tpr', 'fpr') \n",
    "png(\"Pan_Can_ROC_RF.png\")\n",
    "plot(roc, main = 'ROC Curve for Pancreatic Cancer', sub = 'AUC = 0.931')\n",
    "dev.off()\n",
    "auc <- performance(pred, 'auc')\n",
    "cat('auc =', auc@y.values[[1]], '\\n')"
   ]
  },
  {
   "cell_type": "code",
   "execution_count": 37,
   "metadata": {},
   "outputs": [
    {
     "data": {
      "text/html": [
       "<strong>png:</strong> 2"
      ],
      "text/latex": [
       "\\textbf{png:} 2"
      ],
      "text/markdown": [
       "**png:** 2"
      ],
      "text/plain": [
       "png \n",
       "  2 "
      ]
     },
     "metadata": {},
     "output_type": "display_data"
    },
    {
     "name": "stdout",
     "output_type": "stream",
     "text": [
      "auc = 0.9991039 \n"
     ]
    }
   ],
   "source": [
    "## Prostate Cancer的ROC\n",
    "positive_class <- 'Prostate Cancer'\n",
    "test_labels <- vector('integer', nrow(pre_prob))\n",
    "test_labels[sample_class != positive_class] <- 0\n",
    "test_labels[sample_class == positive_class] <- 1\n",
    "pred <- prediction(pre_prob[, positive_class], test_labels)\n",
    "roc <- performance(pred, 'tpr', 'fpr') \n",
    "png(\"Pro_Can_ROC_RF.png\")\n",
    "plot(roc, main = 'ROC Curve for Prostate Cancer', sub = 'AUC = 0.999')\n",
    "dev.off()\n",
    "auc <- performance(pred, 'auc')\n",
    "cat('auc =', auc@y.values[[1]], '\\n')"
   ]
  },
  {
   "cell_type": "code",
   "execution_count": null,
   "metadata": {},
   "outputs": [],
   "source": []
  }
 ],
 "metadata": {
  "kernelspec": {
   "display_name": "R",
   "language": "R",
   "name": "ir"
  },
  "language_info": {
   "codemirror_mode": "r",
   "file_extension": ".r",
   "mimetype": "text/x-r-source",
   "name": "R",
   "pygments_lexer": "r",
   "version": "3.4.3"
  }
 },
 "nbformat": 4,
 "nbformat_minor": 2
}
